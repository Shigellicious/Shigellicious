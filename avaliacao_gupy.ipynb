{
  "nbformat": 4,
  "nbformat_minor": 0,
  "metadata": {
    "colab": {
      "name": "avaliacao_gupy.ipynb",
      "provenance": [],
      "authorship_tag": "ABX9TyOY1Rx4OLJfHaJvvb+PyLFl",
      "include_colab_link": true
    },
    "kernelspec": {
      "name": "python3",
      "display_name": "Python 3"
    },
    "language_info": {
      "name": "python"
    }
  },
  "cells": [
    {
      "cell_type": "markdown",
      "metadata": {
        "id": "view-in-github",
        "colab_type": "text"
      },
      "source": [
        "<a href=\"https://colab.research.google.com/github/Shigellicious/Shigellicious/blob/main/avaliacao_gupy.ipynb\" target=\"_parent\"><img src=\"https://colab.research.google.com/assets/colab-badge.svg\" alt=\"Open In Colab\"/></a>"
      ]
    },
    {
      "cell_type": "code",
      "execution_count": 26,
      "metadata": {
        "colab": {
          "base_uri": "https://localhost:8080/"
        },
        "id": "cMiK8pVgGbNN",
        "outputId": "32c48650-dbfb-46d6-dfb6-587cbc81c61c"
      },
      "outputs": [
        {
          "output_type": "stream",
          "name": "stdout",
          "text": [
            "91\n"
          ]
        }
      ],
      "source": [
        "#Questão 1\n",
        "\n",
        "indice = 13\n",
        "soma = 0\n",
        "k = 0\n",
        "\n",
        "while k < indice:\n",
        "  k += 1\n",
        "  soma = soma + k\n",
        "\n",
        "print (soma)\n"
      ]
    },
    {
      "cell_type": "code",
      "source": [
        "#Questão 2\n",
        "\n",
        "def fibonacci(numeroTestado):\n",
        "  fibonacci = [0,1]\n",
        "  while numeroTestado > fibonacci[-1]:\n",
        "    proximoNumero = fibonacci[-1] + fibonacci[-2]\n",
        "    fibonacci.append(proximoNumero)\n",
        "  if numeroTestado in fibonacci:\n",
        "    print (\"O número {} está na sequência de fibonacci \".format(numeroTestado))\n",
        "    print (fibonacci)\n",
        "  else:\n",
        "    print (\"O número {} não pertence a sequência de fibonacci, os últimos 2 números foram {} e {}. \".format(numeroTestado, fibonacci[-2], fibonacci[-1]))\n",
        "    print (fibonacci)\n",
        "  \n",
        "\n",
        "\n",
        "fibonacci(56)\n",
        "\n",
        "  \n"
      ],
      "metadata": {
        "colab": {
          "base_uri": "https://localhost:8080/"
        },
        "id": "AmarPi8uHAHb",
        "outputId": "d2515f94-d7e3-4e2e-eae5-e9adf9c0f56b"
      },
      "execution_count": 37,
      "outputs": [
        {
          "output_type": "stream",
          "name": "stdout",
          "text": [
            "O número 56 não pertence a sequência de fibonacci, os últimos 2 números foram 55 e 89. \n",
            "[0, 1, 1, 2, 3, 5, 8, 13, 21, 34, 55, 89]\n"
          ]
        }
      ]
    },
    {
      "cell_type": "code",
      "source": [
        "#Questão 3\n",
        "\n",
        "faturamentoMensal = [100,200,300,500,1000,2000,50, 20, 5000,1500]\n",
        "\n",
        "def maiorFaturamento (lista):\n",
        "  faturamento = 0\n",
        "  for dia in lista:\n",
        "    if dia > faturamento:\n",
        "      faturamento = dia\n",
        "  print(\"O maior faturamento nesse mês foi {} R$.\".format(faturamento))\n",
        "\n",
        "def menorFaturamento (lista):\n",
        "  faturamento = lista[0]\n",
        "  for dia in lista:\n",
        "    if dia < faturamento:\n",
        "      faturamento = dia\n",
        "  print (\"O menor faturamento nesse mês foi {} R$.\".format(faturamento))\n",
        "\n",
        "def numeroDiasFaturamentoMaiorMedia (lista):\n",
        "  somaTotal = 0\n",
        "  numeroDias = 0\n",
        "  tamanhoLista = len(lista)\n",
        "  for dia in lista:\n",
        "    somaTotal = somaTotal + dia\n",
        "  mediaMensal = somaTotal / tamanhoLista\n",
        "  for dia in lista:\n",
        "    if dia > mediaMensal:\n",
        "      numeroDias += 1\n",
        "  print(\"Num total de {} dias, o faturamento diário foi maior que a média mensal de {} R$.\".format(numeroDias, mediaMensal))\n",
        "\n",
        "\n",
        "\n",
        "\n",
        "maiorFaturamento(faturamentoMensal)\n",
        "menorFaturamento(faturamentoMensal)\n",
        "numeroDiasFaturamentoMaiorMedia(faturamentoMensal)\n",
        "\n",
        "    "
      ],
      "metadata": {
        "colab": {
          "base_uri": "https://localhost:8080/"
        },
        "id": "m4OjdU-pOYva",
        "outputId": "45d17ebd-950d-4032-f701-f53537d18140"
      },
      "execution_count": null,
      "outputs": [
        {
          "output_type": "stream",
          "name": "stdout",
          "text": [
            "O maior faturamento nesse mês foi 5000 R$.\n",
            "O menor faturamento nesse mês foi 20 R$.\n",
            "Num total de 3 dias, o faturamento diário foi maior que a média mensal de 1067.0 R$.\n"
          ]
        }
      ]
    },
    {
      "cell_type": "code",
      "source": [
        "#Questão 4\n",
        "\n",
        "faturamentoMensalDistribuidora = {\"SP\":67836.43, \"RJ\":36678.66, \"MG\":29229.88, \"ES\":27165.48, \"Outros\":19849.53}\n",
        "\n",
        "def porcentagemEstado (dictionary):\n",
        "  keys = faturamentoMensalDistribuidora.keys()\n",
        "  total = 0\n",
        "  for key in keys:\n",
        "    total = total + faturamentoMensalDistribuidora[key]\n",
        "  for key in keys:\n",
        "    porcentagem = round((faturamentoMensalDistribuidora[key] / total) * 100, 2)\n",
        "    if key != \"Outros\":\n",
        "      print (\"O Estado de {} representa {} % do faturamento da distribuídora.\".format(key, porcentagem))\n",
        "    else:\n",
        "      print (\"Os {} Estados representam {} % do faturamento da distribuídora\".format(key, porcentagem))\n",
        "\n",
        "porcentagemEstado (faturamentoMensalDistribuidora)"
      ],
      "metadata": {
        "id": "zE0QyZqbTkgp",
        "colab": {
          "base_uri": "https://localhost:8080/"
        },
        "outputId": "2ce6121f-06dc-4e3e-bf10-5c21a8bc2622"
      },
      "execution_count": 32,
      "outputs": [
        {
          "output_type": "stream",
          "name": "stdout",
          "text": [
            "O Estado de SP representa 37.53 % do faturamento da distribuídora.\n",
            "O Estado de RJ representa 20.29 % do faturamento da distribuídora.\n",
            "O Estado de MG representa 16.17 % do faturamento da distribuídora.\n",
            "O Estado de ES representa 15.03 % do faturamento da distribuídora.\n",
            "Os Outros Estados representam 10.98 % do faturamento da distribuídora\n"
          ]
        }
      ]
    },
    {
      "cell_type": "code",
      "source": [
        "#Questão 5\n",
        "\n",
        "tiaMay = \"Com grandes poderes, vêm grandes responsabilidades!\"\n",
        "\n",
        "def inverterString (umaString):\n",
        "  stringRevertida = \"\"\n",
        "  for char in umaString:\n",
        "    stringRevertida = char + stringRevertida\n",
        "  print (\"String original: \" + umaString)\n",
        "  print (\"String invertida: \" + stringRevertida)\n",
        "\n",
        "inverterString(tiaMay)\n",
        "\n",
        "\n",
        "\n"
      ],
      "metadata": {
        "colab": {
          "base_uri": "https://localhost:8080/"
        },
        "id": "bZ7Btel_XeO8",
        "outputId": "4ea2bd69-a39f-43c8-db72-a49b67e23a34"
      },
      "execution_count": 36,
      "outputs": [
        {
          "output_type": "stream",
          "name": "stdout",
          "text": [
            "String original: Com grandes poderes, vêm grandes responsabilidades!\n",
            "String invertida: !sedadilibasnopser sednarg mêv ,seredop sednarg moC\n"
          ]
        }
      ]
    },
    {
      "cell_type": "code",
      "source": [
        ""
      ],
      "metadata": {
        "id": "jGL0plbYTtf4"
      },
      "execution_count": null,
      "outputs": []
    }
  ]
}
