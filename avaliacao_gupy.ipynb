{
  "nbformat": 4,
  "nbformat_minor": 0,
  "metadata": {
    "colab": {
      "name": "avaliacao_gupy.ipynb",
      "provenance": [],
      "authorship_tag": "ABX9TyPg3+F82z1ygnFcWy2rugPE",
      "include_colab_link": true
    },
    "kernelspec": {
      "name": "python3",
      "display_name": "Python 3"
    },
    "language_info": {
      "name": "python"
    }
  },
  "cells": [
    {
      "cell_type": "markdown",
      "metadata": {
        "id": "view-in-github",
        "colab_type": "text"
      },
      "source": [
        "<a href=\"https://colab.research.google.com/github/Shigellicious/Shigellicious/blob/main/avaliacao_gupy.ipynb\" target=\"_parent\"><img src=\"https://colab.research.google.com/assets/colab-badge.svg\" alt=\"Open In Colab\"/></a>"
      ]
    },
    {
      "cell_type": "code",
      "source": [
        "from google.colab import drive\n",
        "\n",
        "drive.mount('/content/drive', force_remount=True)\n",
        "\n",
        "dados = open (\"/content/drive/My Drive/Databases/teste/dados_teste_gupy.json\",\"r\")"
      ],
      "metadata": {
        "id": "-4jlDWokYGEC",
        "outputId": "aee9474c-96be-46b6-a18d-4632dc6c7df4",
        "colab": {
          "base_uri": "https://localhost:8080/"
        }
      },
      "execution_count": 14,
      "outputs": [
        {
          "output_type": "stream",
          "name": "stdout",
          "text": [
            "Mounted at /content/drive\n"
          ]
        }
      ]
    },
    {
      "cell_type": "code",
      "source": [
        "import json\n",
        "jsonDados = json.load(dados)\n"
      ],
      "metadata": {
        "id": "gY2xmZsxZ6hU"
      },
      "execution_count": 15,
      "outputs": []
    },
    {
      "cell_type": "code",
      "source": [
        "print (jsonDados)"
      ],
      "metadata": {
        "id": "0Q6pFd6na6bw",
        "outputId": "d626c307-04ae-4d17-d52e-0ee190c2edde",
        "colab": {
          "base_uri": "https://localhost:8080/"
        }
      },
      "execution_count": 16,
      "outputs": [
        {
          "output_type": "stream",
          "name": "stdout",
          "text": [
            "[{'dia': 1, 'valor': 22174.1664}, {'dia': 2, 'valor': 24537.6698}, {'dia': 3, 'valor': 26139.6134}, {'dia': 4, 'valor': 0.0}, {'dia': 5, 'valor': 0.0}, {'dia': 6, 'valor': 26742.6612}, {'dia': 7, 'valor': 0.0}, {'dia': 8, 'valor': 42889.2258}, {'dia': 9, 'valor': 46251.174}, {'dia': 10, 'valor': 11191.4722}, {'dia': 11, 'valor': 0.0}, {'dia': 12, 'valor': 0.0}, {'dia': 13, 'valor': 3847.4823}, {'dia': 14, 'valor': 373.7838}, {'dia': 15, 'valor': 2659.7563}, {'dia': 16, 'valor': 48924.2448}, {'dia': 17, 'valor': 18419.2614}, {'dia': 18, 'valor': 0.0}, {'dia': 19, 'valor': 0.0}, {'dia': 20, 'valor': 35240.1826}, {'dia': 21, 'valor': 43829.1667}, {'dia': 22, 'valor': 18235.6852}, {'dia': 23, 'valor': 4355.0662}, {'dia': 24, 'valor': 13327.1025}, {'dia': 25, 'valor': 0.0}, {'dia': 26, 'valor': 0.0}, {'dia': 27, 'valor': 25681.8318}, {'dia': 28, 'valor': 1718.1221}, {'dia': 29, 'valor': 13220.495}, {'dia': 30, 'valor': 8414.61}]\n"
          ]
        }
      ]
    },
    {
      "cell_type": "code",
      "execution_count": 3,
      "metadata": {
        "colab": {
          "base_uri": "https://localhost:8080/"
        },
        "id": "cMiK8pVgGbNN",
        "outputId": "b0d03aba-05c8-45e5-b26c-aa43ffe6523a"
      },
      "outputs": [
        {
          "output_type": "stream",
          "name": "stdout",
          "text": [
            "91\n"
          ]
        }
      ],
      "source": [
        "#Questão 1\n",
        "indice = 13\n",
        "soma = 0\n",
        "k = 0\n",
        "\n",
        "while k < indice:\n",
        "  k += 1\n",
        "  soma = soma + k\n",
        "\n",
        "print (soma)\n"
      ]
    },
    {
      "cell_type": "code",
      "source": [
        "#Questão 2\n",
        "\n",
        "def fibonacci(numeroTestado):\n",
        "  fibonacci = [0,1]\n",
        "  while numeroTestado > fibonacci[-1]:\n",
        "    proximoNumero = fibonacci[-1] + fibonacci[-2]\n",
        "    fibonacci.append(proximoNumero)\n",
        "  if numeroTestado in fibonacci:\n",
        "    print (\"O número {} está na sequência de fibonacci \".format(numeroTestado))\n",
        "    print (fibonacci)\n",
        "  else:\n",
        "    print (\"O número {} não pertence a sequência de fibonacci, os últimos 2 números foram {} e {}. \".format(numeroTestado, fibonacci[-2], fibonacci[-1]))\n",
        "    print (fibonacci)\n",
        "  \n",
        "\n",
        "\n",
        "fibonacci(56)\n",
        "\n",
        "  \n"
      ],
      "metadata": {
        "colab": {
          "base_uri": "https://localhost:8080/"
        },
        "id": "AmarPi8uHAHb",
        "outputId": "1a6d5759-84f2-4037-e08c-fd32f57297ea"
      },
      "execution_count": 4,
      "outputs": [
        {
          "output_type": "stream",
          "name": "stdout",
          "text": [
            "O número 56 não pertence a sequência de fibonacci, os últimos 2 números foram 55 e 89. \n",
            "[0, 1, 1, 2, 3, 5, 8, 13, 21, 34, 55, 89]\n"
          ]
        }
      ]
    },
    {
      "cell_type": "code",
      "source": [
        "#Questão 3 JSON\n",
        "\n",
        "faturamentoMensal = jsonDados\n",
        "def maiorFaturamentoMensal (lista):\n",
        "  maiorFaturamento = 0\n",
        "  diaFauramento = 0\n",
        "  for dia in lista:\n",
        "    if dia[\"valor\"] > maiorFaturamento:\n",
        "      maiorFaturamento = round(dia[\"valor\"], 2)\n",
        "      diaFaturamento = dia[\"dia\"]\n",
        "  print (\"O maior faturamento do mês foi {} R$ no dia {}.\".format(maiorFaturamento, diaFaturamento))\n",
        "\n",
        "def menorFaturamentoMensal (lista):\n",
        "  menorFaturamento = lista[0][\"valor\"]\n",
        "  diaFaturamento = 0\n",
        "  for dia in lista:\n",
        "    if dia[\"valor\"] < menorFaturamento and dia[\"valor\"] != 0:\n",
        "      menorFaturamento = round(dia[\"valor\"],2)\n",
        "      diaFaturamento = dia[\"dia\"]\n",
        "  print (\"O menor faturmaento do mês foi {} R$ no dia {}\".format(menorFaturamento,diaFaturamento))\n",
        "\n",
        "\n",
        "def diasMaiorMedia (lista):\n",
        "  numeroDiasFaturamento = 0\n",
        "  total = 0\n",
        "  listaDias = []\n",
        "  for item in lista:\n",
        "    if item[\"valor\"] != 0:\n",
        "      numeroDiasFaturamento += 1\n",
        "      total = total + item[\"valor\"]\n",
        "  media = round (total / numeroDiasFaturamento, 2)\n",
        "  for item in lista:\n",
        "    if item [\"valor\"] > media:\n",
        "      listaDias.append(item[\"dia\"])\n",
        "  comprimentoLista = len(listaDias)\n",
        "  print (\"Num total de {} dias, o faturamento diário foi maior que a média do mês de {} R$.\".format(comprimentoLista, media))\n",
        "    \n",
        "\n",
        "\n",
        "\n",
        "\n",
        "\n",
        "maiorFaturamentoMensal(faturamentoMensal)\n",
        "menorFaturamentoMensal(faturamentoMensal)\n",
        "diasMaiorMedia(faturamentoMensal)\n",
        "\n",
        "\n"
      ],
      "metadata": {
        "id": "V8GjpLGNuRVY",
        "outputId": "905ec444-47b9-4d93-cb52-18f283ed3cff",
        "colab": {
          "base_uri": "https://localhost:8080/"
        }
      },
      "execution_count": 37,
      "outputs": [
        {
          "output_type": "stream",
          "name": "stdout",
          "text": [
            "O maior faturamento do mês foi 48924.24 R$ no dia 16.\n",
            "O menor faturmaento do mês foi 373.78 R$ no dia 14\n",
            "Num total de 10 dias, o faturamento diário foi maior que a média do mês de 20865.37 R$.\n"
          ]
        }
      ]
    },
    {
      "cell_type": "code",
      "source": [
        "#Questão 4\n",
        "\n",
        "faturamentoMensalDistribuidora = {\"SP\":67836.43, \"RJ\":36678.66, \"MG\":29229.88, \"ES\":27165.48, \"Outros\":19849.53}\n",
        "\n",
        "def porcentagemEstado (dictionary):\n",
        "  keys = faturamentoMensalDistribuidora.keys()\n",
        "  total = 0\n",
        "  for key in keys:\n",
        "    total = total + faturamentoMensalDistribuidora[key]\n",
        "  for key in keys:\n",
        "    porcentagem = round((faturamentoMensalDistribuidora[key] / total) * 100, 2)\n",
        "    if key != \"Outros\":\n",
        "      print (\"O Estado de {} representa {} % do faturamento da distribuídora.\".format(key, porcentagem))\n",
        "    else:\n",
        "      print (\"Os {} Estados representam {} % do faturamento da distribuídora\".format(key, porcentagem))\n",
        "\n",
        "porcentagemEstado (faturamentoMensalDistribuidora)"
      ],
      "metadata": {
        "id": "zE0QyZqbTkgp",
        "colab": {
          "base_uri": "https://localhost:8080/"
        },
        "outputId": "cf06a19c-0a78-4d82-dca1-fe3592967f52"
      },
      "execution_count": 6,
      "outputs": [
        {
          "output_type": "stream",
          "name": "stdout",
          "text": [
            "O Estado de SP representa 37.53 % do faturamento da distribuídora.\n",
            "O Estado de RJ representa 20.29 % do faturamento da distribuídora.\n",
            "O Estado de MG representa 16.17 % do faturamento da distribuídora.\n",
            "O Estado de ES representa 15.03 % do faturamento da distribuídora.\n",
            "Os Outros Estados representam 10.98 % do faturamento da distribuídora\n"
          ]
        }
      ]
    },
    {
      "cell_type": "code",
      "source": [
        "#Questão 5\n",
        "\n",
        "tiaMay = \"Com grandes poderes, vêm grandes responsabilidades!\"\n",
        "\n",
        "def inverterString (umaString):\n",
        "  stringRevertida = \"\"\n",
        "  for char in umaString:\n",
        "    stringRevertida = char + stringRevertida\n",
        "  print (\"String original: \" + umaString)\n",
        "  print (\"String invertida: \" + stringRevertida)\n",
        "\n",
        "inverterString(tiaMay)\n",
        "\n",
        "\n",
        "\n"
      ],
      "metadata": {
        "colab": {
          "base_uri": "https://localhost:8080/"
        },
        "id": "bZ7Btel_XeO8",
        "outputId": "db06bcf6-9eba-48db-abc8-b2b7cd61799a"
      },
      "execution_count": 38,
      "outputs": [
        {
          "output_type": "stream",
          "name": "stdout",
          "text": [
            "String original: Com grandes poderes, vêm grandes responsabilidades!\n",
            "String invertida: !sedadilibasnopser sednarg mêv ,seredop sednarg moC\n"
          ]
        }
      ]
    },
    {
      "cell_type": "code",
      "source": [
        ""
      ],
      "metadata": {
        "id": "jGL0plbYTtf4"
      },
      "execution_count": 7,
      "outputs": []
    }
  ]
}