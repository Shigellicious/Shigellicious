{
  "nbformat": 4,
  "nbformat_minor": 0,
  "metadata": {
    "colab": {
      "name": "harry_potter_words.ipynb",
      "provenance": [],
      "collapsed_sections": [],
      "authorship_tag": "ABX9TyOfC7NxvKRAu1WFNIVmXb7H",
      "include_colab_link": true
    },
    "kernelspec": {
      "name": "python3",
      "display_name": "Python 3"
    },
    "language_info": {
      "name": "python"
    }
  },
  "cells": [
    {
      "cell_type": "markdown",
      "metadata": {
        "id": "view-in-github",
        "colab_type": "text"
      },
      "source": [
        "<a href=\"https://colab.research.google.com/github/Shigellicious/Shigellicious/blob/main/harry_potter_words.ipynb\" target=\"_parent\"><img src=\"https://colab.research.google.com/assets/colab-badge.svg\" alt=\"Open In Colab\"/></a>"
      ]
    },
    {
      "cell_type": "markdown",
      "metadata": {
        "id": "2i4SslpnFZj-"
      },
      "source": [
        "In this notebook I will program to look for every word in the books first four books from de Harry Potter series written by J. K. Rowling.\n",
        "I found the harry potter books file in this URL: https://github.com/amephraim/nlp/tree/master/texts\n",
        "The .txt files are located at my drive and I will work with python from there.\n",
        "I am thankfull to Michigan University, because i started studying programming and python from their Coursera corses.  "
      ]
    },
    {
      "cell_type": "code",
      "metadata": {
        "colab": {
          "base_uri": "https://localhost:8080/"
        },
        "id": "dJdiJ6DgCPyy",
        "outputId": "51db6f34-c5e5-4723-90c1-da3af3d53358"
      },
      "source": [
        "from google.colab import drive\n",
        "\n",
        "drive.mount('/content/drive', force_remount=True)\n",
        "\n",
        "\n"
      ],
      "execution_count": 1,
      "outputs": [
        {
          "output_type": "stream",
          "name": "stdout",
          "text": [
            "Mounted at /content/drive\n"
          ]
        }
      ]
    },
    {
      "cell_type": "markdown",
      "metadata": {
        "id": "5Iu0svvWJKb4"
      },
      "source": [
        "hp1, hp2, hp3 and hp4 are variables which I used to place all Strings from each txt file using the method read."
      ]
    },
    {
      "cell_type": "code",
      "metadata": {
        "id": "vfYU1IyGFZKo"
      },
      "source": [
        "hp1 = open (\"/content/drive/My Drive/harry_potter_txt/harry_potter_1.txt\",\"r\") \n",
        "hp2 = open (\"/content/drive/My Drive/harry_potter_txt/harry_potter_2.txt\",\"r\") \n",
        "hp3 = open (\"/content/drive/My Drive/harry_potter_txt/harry_potter_3.txt\",\"r\") \n",
        "hp4 = open (\"/content/drive/My Drive/harry_potter_txt/harry_potter_4.txt\",\"r\")  "
      ],
      "execution_count": 19,
      "outputs": []
    },
    {
      "cell_type": "markdown",
      "metadata": {
        "id": "XqqnuJNWKapn"
      },
      "source": [
        "In this next block of code I created a list of lines of th whole text and put it on the variable list_hp1. I put a print method to show how many lines we have in the book. (The answer is 10702 lines)."
      ]
    },
    {
      "cell_type": "code",
      "metadata": {
        "id": "YnmFqUzpJtiO",
        "colab": {
          "base_uri": "https://localhost:8080/"
        },
        "outputId": "af9201de-a283-4b7b-83d8-9293cdfbd8e3"
      },
      "source": [
        "list_hp1 = hp1.readlines()\n",
        "print (len(list_hp1))\n"
      ],
      "execution_count": 3,
      "outputs": [
        {
          "output_type": "stream",
          "name": "stdout",
          "text": [
            "10702\n"
          ]
        }
      ]
    },
    {
      "cell_type": "markdown",
      "metadata": {
        "id": "IY2L5XMJk9tc"
      },
      "source": [
        "In this next part I am priting the lines from 101 to 105, We have to remember that python starts with index 0, so to know what line we are talking about we need to add 1 to the list index used."
      ]
    },
    {
      "cell_type": "code",
      "metadata": {
        "id": "bl81nOIdLNbi",
        "colab": {
          "base_uri": "https://localhost:8080/"
        },
        "outputId": "31295fc7-8102-4de8-d370-82e58e5ced01"
      },
      "source": [
        "\n",
        "print (list_hp1[100])\n",
        "print (list_hp1[101])\n",
        "print (list_hp1[102])\n",
        "print (list_hp1[103])\n",
        "print (list_hp1[104])\n"
      ],
      "execution_count": 4,
      "outputs": [
        {
          "output_type": "stream",
          "name": "stdout",
          "text": [
            "secretary not to disturb him, seized his telephone, and had almost\n",
            "\n",
            "finished dialing his home number when he changed his mind. He put the\n",
            "\n",
            "receiver back down and stroked his mustache, thinking... no, he was\n",
            "\n",
            "being stupid. Potter wasn't such an unusual name. He was sure there were\n",
            "\n",
            "lots of people called Potter who had a son called Harry. Come to think\n",
            "\n"
          ]
        }
      ]
    },
    {
      "cell_type": "markdown",
      "metadata": {
        "id": "nrfca91NrkNs"
      },
      "source": [
        "Now I am creating an algoritm that cleans the words in each line from the pontuation on pontuation list"
      ]
    },
    {
      "cell_type": "code",
      "metadata": {
        "id": "8f7ZtkJdlcTb",
        "colab": {
          "base_uri": "https://localhost:8080/"
        },
        "outputId": "62028c5c-5402-4d52-8679-6277d8391bd4"
      },
      "source": [
        "print (list_hp1[102].split()) #this is the list with all words in the line with the pontuation.\n",
        "pontuation_list = [\"!\", \",\", \".\", \"(\", \")\", \"?\", \"...\", \"\"\"\"\"\"\", \"\"\"\"\"\"\"]\n",
        "clean_list = []\n",
        "clean_word = \"\"\n",
        "for word in list_hp1[102].split():\n",
        "  for char in word:\n",
        "    if char not in pontuation_list:\n",
        "      clean_word = clean_word + char\n",
        "  \n",
        "  clean_list.append(clean_word)\n",
        "  clean_word = \"\" #this reset the clean_word String, if we dont do that it will join all letters from each word in the line together.\n",
        "print(clean_list)#this is the list with all the words in the line but without the pontuation from the pontuation list.\n",
        "  \n"
      ],
      "execution_count": 5,
      "outputs": [
        {
          "output_type": "stream",
          "name": "stdout",
          "text": [
            "['receiver', 'back', 'down', 'and', 'stroked', 'his', 'mustache,', 'thinking...', 'no,', 'he', 'was']\n",
            "['receiver', 'back', 'down', 'and', 'stroked', 'his', 'mustache', 'thinking', 'no', 'he', 'was']\n"
          ]
        }
      ]
    },
    {
      "cell_type": "markdown",
      "metadata": {
        "id": "jeznr18LsdwF"
      },
      "source": [
        "The next Step is to create a function called pontuatation_remover that recives a list as a parameter and returns a list with all words from  the line used as parameter to the function without the pontuation from the pontuation_list."
      ]
    },
    {
      "cell_type": "code",
      "metadata": {
        "id": "Hmsv50yxsxuE"
      },
      "source": [
        "def pontuation_remover(some_list):\n",
        "  pontuation_list = [\"!\", \",\", \".\", \"(\", \")\", \"?\", \"...\",\"\\\"\", \"\\\"\", \"-\", \" \", \"\\n\", \":\", \";\" ] #backslash is scape sequence that allows me to use double quote as string, I could use single quote to use double quote as a string\n",
        "  clean_list = []\n",
        "  clean_word = \"\"\n",
        "  for word in some_list.split():\n",
        "    for char in word:\n",
        "      if char not in pontuation_list:\n",
        "        clean_word = clean_word + char\n",
        "  \n",
        "    clean_list.append(clean_word)\n",
        "    clean_word = \"\" \n",
        "  return clean_list"
      ],
      "execution_count": 6,
      "outputs": []
    },
    {
      "cell_type": "markdown",
      "metadata": {
        "id": "bgo3gNxrwRfu"
      },
      "source": [
        "As we can see we got the same result them before with the function pontuation_remover."
      ]
    },
    {
      "cell_type": "code",
      "metadata": {
        "id": "IaQO4B6euWNR",
        "colab": {
          "base_uri": "https://localhost:8080/"
        },
        "outputId": "12f0b24c-ba7b-484f-842e-5c49ba04a995"
      },
      "source": [
        "a = pontuation_remover(list_hp1[7572])\n",
        "print (a)"
      ],
      "execution_count": 7,
      "outputs": [
        {
          "output_type": "stream",
          "name": "stdout",
          "text": [
            "['hardly', 'heard', 'a', 'word', 'of', \"Wood's\", 'pep', 'talk', 'as', 'he', 'pulled', 'on', 'his', 'Quidditch']\n"
          ]
        }
      ]
    },
    {
      "cell_type": "markdown",
      "metadata": {
        "id": "9OREa9a0wnl8"
      },
      "source": [
        "Now is time to use that function for all the lines in the first book of the Harry Potter series, remember that I said that it has 10702 lines (len(list_hp1)). I used 2 for loops here, one to go throgh the list of lists that is list_hp1, then I used a second for lop to itarate trough all the words in each list inside list_hp1 to append those words inside the hp1_words_list. I had to use a other list called b just to hold the information that my fuction return to me and i itarate trough that list to get all words inside it, once that was finished I had to change b value to a empty list to start the whole processes again.\n"
      ]
    },
    {
      "cell_type": "code",
      "metadata": {
        "id": "x0qYJ6N6WCIy"
      },
      "source": [
        "hp1_words_list = []\n",
        "for line in list_hp1:\n",
        "  b = pontuation_remover(line)\n",
        "  for word in b:\n",
        "    hp1_words_list.append(word)\n",
        "  b =[]\n"
      ],
      "execution_count": 8,
      "outputs": []
    },
    {
      "cell_type": "markdown",
      "metadata": {
        "id": "2IbUiQ9hY5BK"
      },
      "source": [
        "This is just a print to show the first fifty itens inside hp1_words_list to show that it work. We can see that its length is = 78451, which means that in the first Harry Potter book we have 78451 words, but I have to mention that I** didn't take in consideration auxiliary verbs** such as had,would, should and others in words like \"you'd\" and others contractioned words."
      ]
    },
    {
      "cell_type": "code",
      "metadata": {
        "colab": {
          "base_uri": "https://localhost:8080/"
        },
        "id": "WdMiY62ZYj0k",
        "outputId": "0ffa048d-39f7-4ced-e935-0ba8c3f5bdab"
      },
      "source": [
        "print (hp1_words_list[:50])\n",
        "print(len(hp1_words_list))"
      ],
      "execution_count": 9,
      "outputs": [
        {
          "output_type": "stream",
          "name": "stdout",
          "text": [
            "['Harry', 'Potter', 'and', 'the', \"Sorcerer's\", 'Stone', 'CHAPTER', 'ONE', 'THE', 'BOY', 'WHO', 'LIVED', 'Mr', 'and', 'Mrs', 'Dursley', 'of', 'number', 'four', 'Privet', 'Drive', 'were', 'proud', 'to', 'say', 'that', 'they', 'were', 'perfectly', 'normal', 'thank', 'you', 'very', 'much', 'They', 'were', 'the', 'last', 'people', \"you'd\", 'expect', 'to', 'be', 'involved', 'in', 'anything', 'strange', 'or', 'mysterious', 'because']\n",
            "78451\n"
          ]
        }
      ]
    },
    {
      "cell_type": "markdown",
      "metadata": {
        "id": "Urc6QB3XeSGt"
      },
      "source": [
        "We can se by the length of the list contractioned_words that we in the 78451 total words inside the book, we have 2690 contractioned words. We can see that some itens of the list has only the \"'ve\" or \"'t\", to be honest I don't what went wrong there, but definitely it is a contracioned word. I forgot to say that contractions is a list with the most commom contractions that I found in english, if there is an contraction inside the book that i didn' put inside that list it will not appear inside the contractioned_words list. Another thing that I have to say about my code is the word[-3:] and word[-2:], this means that for every word inside the hp1_words_list I will compare the last three or two letters to compare with my contractions list, if then are equal to one of the itens of the contractions list, that word is appened to my contractioned_words list. I needed only the last 3 or 2 letters to see if it is a contractioned word, also it's important to see that inside those 3 or 2 charecters we have the single quote ' ."
      ]
    },
    {
      "cell_type": "code",
      "metadata": {
        "colab": {
          "base_uri": "https://localhost:8080/"
        },
        "id": "Fp48KGk6bK0z",
        "outputId": "1afcc1df-e04f-4fcc-82c5-07b6b6f3e3ad"
      },
      "source": [
        "contractions = [\"'d\",\"'ve\",\"'s\",\"'ll\",\"'re\",\"'m\", \"'t\"]\n",
        "contractioned_words = []\n",
        "for word in hp1_words_list:\n",
        "  for contraction in contractions:\n",
        "    if word[-3:] == contraction:\n",
        "      contractioned_words.append(word)\n",
        "    elif word[-2:] == contraction:\n",
        "      contractioned_words.append(word)\n",
        "\n",
        "\n",
        "print (len(contractioned_words))\n",
        "print (contractioned_words[:50])"
      ],
      "execution_count": 10,
      "outputs": [
        {
          "output_type": "stream",
          "name": "stdout",
          "text": [
            "2690\n",
            "[\"Sorcerer's\", \"you'd\", \"didn't\", \"didn't\", \"Dursley's\", \"hadn't\", \"didn't\", \"didn't\", \"four's\", \"didn't\", \"wasn't\", \"couldn't\", \"couldn't\", \"couldn't\", \"weren't\", \"hadn't\", \"didn't\", \"he'd\", \"He'd\", \"baker's\", \"didn't\", \"couldn't\", \"that's\", \"that's\", \"wasn't\", \"wasn't\", \"He'd\", \"didn't\", \"he'd\", \"didn't\", \"Don't\", \"didn't\", \"didn't\", \"he'd\", \"didn't\", \"Door's\", \"Won't\", \"nation's\", \"don't\", \"it's\", \"they've\", \"it's\", \"He'd\", \"haven't\", \"didn't\", \"he'd\", \"didn't\", \"he'd\", \"Dudley's\", \"wouldn't\"]\n"
          ]
        }
      ]
    },
    {
      "cell_type": "markdown",
      "metadata": {
        "id": "mt8CUBSTZiF-"
      },
      "source": [
        "Now we are goin create a dictionary for each word inside the list hp1_words_list, at the begining the dictionary words_frequency is empty, but we are going to intinarate trhough our list and use condionals to help us see which word has been added to list, if the word has been considerated we are going to add 1 to the value of that word, that is they key of our dictionary. If there isnt a key with the value of the word it will be add to the dictionary with the value 1."
      ]
    },
    {
      "cell_type": "code",
      "metadata": {
        "id": "PhbUUFIUeRct"
      },
      "source": [
        "words_frequency_hp1 = {}\n",
        "for word in hp1_words_list:\n",
        "  w = word.lower()\n",
        "  if w not in words_frequency_hp1:\n",
        "    words_frequency_hp1[w] = 1\n",
        "  else:\n",
        "    words_frequency_hp1[w] += 1\n",
        "\n",
        "\n",
        "\n"
      ],
      "execution_count": 11,
      "outputs": []
    },
    {
      "cell_type": "markdown",
      "metadata": {
        "id": "5QzOXUr_atp7"
      },
      "source": [
        "Here I am just printing some of the names to see how many times each name is mentioned i the book, I forgot to say that I used the method .lower() to make all word lower case, names included. Because if I didn't we were going to have some duplicated words key, some um upper case and some in lower case, for exemple: \"harry\" and \"Harry\", \"hermione\" and \"Hermione\" and so on."
      ]
    },
    {
      "cell_type": "code",
      "metadata": {
        "colab": {
          "base_uri": "https://localhost:8080/"
        },
        "id": "ZmxJmy0ZTbAj",
        "outputId": "2cb65ccc-e6f5-492f-85a4-87ef560f19ea"
      },
      "source": [
        "print (words_frequency_hp1[\"harry\"])\n",
        "print (words_frequency_hp1[\"hermione\"])\n",
        "print (words_frequency_hp1[\"voldemort\"])\n",
        "print (words_frequency_hp1[\"ron\"])\n",
        "print (words_frequency_hp1[\"dumbledore\"])"
      ],
      "execution_count": 12,
      "outputs": [
        {
          "output_type": "stream",
          "name": "stdout",
          "text": [
            "1214\n",
            "257\n",
            "31\n",
            "410\n",
            "142\n"
          ]
        }
      ]
    },
    {
      "cell_type": "markdown",
      "metadata": {
        "id": "5Wa4bU8NbVtD"
      },
      "source": [
        "Here is just another exemple of how the .lower method works with strings."
      ]
    },
    {
      "cell_type": "code",
      "metadata": {
        "colab": {
          "base_uri": "https://localhost:8080/"
        },
        "id": "5ydCzIW-YvLC",
        "outputId": "73f7c476-a2a0-43d8-8fbc-447ca6769761"
      },
      "source": [
        "caps = \"CAPSLOCK ON\"\n",
        "print (caps.lower())"
      ],
      "execution_count": 13,
      "outputs": [
        {
          "output_type": "stream",
          "name": "stdout",
          "text": [
            "capslock on\n"
          ]
        }
      ]
    },
    {
      "cell_type": "markdown",
      "metadata": {
        "id": "kA6YpV1Sk8Q0"
      },
      "source": [
        "Here we can see all the words that have appeared 10 times in the book."
      ]
    },
    {
      "cell_type": "code",
      "metadata": {
        "colab": {
          "base_uri": "https://localhost:8080/"
        },
        "id": "dcgFNujhkD2e",
        "outputId": "cb65dcb2-1270-4e2e-f43f-9dd288ca3127"
      },
      "source": [
        "keys = words_frequency_hp1.keys()\n",
        "for key in keys:\n",
        "  if words_frequency_hp1[key] == 10:\n",
        "    print (\"The word '{}' appeared {} time(s) in the Harry Potter and the Philosopher's stone\".format(key, words_frequency_hp1[key]))"
      ],
      "execution_count": 14,
      "outputs": [
        {
          "output_type": "stream",
          "name": "stdout",
          "text": [
            "The word 'normal' appeared 10 time(s) in the Harry Potter and the Philosopher's stone\n",
            "The word 'thin' appeared 10 time(s) in the Harry Potter and the Philosopher's stone\n",
            "The word 'fear' appeared 10 time(s) in the Harry Potter and the Philosopher's stone\n",
            "The word 'keeping' appeared 10 time(s) in the Harry Potter and the Philosopher's stone\n",
            "The word 'woke' appeared 10 time(s) in the Harry Potter and the Philosopher's stone\n",
            "The word 'chair' appeared 10 time(s) in the Harry Potter and the Philosopher's stone\n",
            "The word 'throwing' appeared 10 time(s) in the Harry Potter and the Philosopher's stone\n",
            "The word 'realize' appeared 10 time(s) in the Harry Potter and the Philosopher's stone\n",
            "The word 'jerked' appeared 10 time(s) in the Harry Potter and the Philosopher's stone\n",
            "The word 'young' appeared 10 time(s) in the Harry Potter and the Philosopher's stone\n",
            "The word 'bag' appeared 10 time(s) in the Harry Potter and the Philosopher's stone\n",
            "The word 'learned' appeared 10 time(s) in the Harry Potter and the Philosopher's stone\n",
            "The word 'living' appeared 10 time(s) in the Harry Potter and the Philosopher's stone\n",
            "The word 'carrying' appeared 10 time(s) in the Harry Potter and the Philosopher's stone\n",
            "The word 'whether' appeared 10 time(s) in the Harry Potter and the Philosopher's stone\n",
            "The word 'kind' appeared 10 time(s) in the Harry Potter and the Philosopher's stone\n",
            "The word 'slipped' appeared 10 time(s) in the Harry Potter and the Philosopher's stone\n",
            "The word 'careful' appeared 10 time(s) in the Harry Potter and the Philosopher's stone\n",
            "The word 'neither' appeared 10 time(s) in the Harry Potter and the Philosopher's stone\n",
            "The word 'power' appeared 10 time(s) in the Harry Potter and the Philosopher's stone\n",
            "The word 'nodded' appeared 10 time(s) in the Harry Potter and the Philosopher's stone\n",
            "The word 'may' appeared 10 time(s) in the Harry Potter and the Philosopher's stone\n",
            "The word 'less' appeared 10 time(s) in the Harry Potter and the Philosopher's stone\n",
            "The word 'size' appeared 10 time(s) in the Harry Potter and the Philosopher's stone\n",
            "The word 'baby' appeared 10 time(s) in the Harry Potter and the Philosopher's stone\n",
            "The word 'business' appeared 10 time(s) in the Harry Potter and the Philosopher's stone\n",
            "The word 'balls' appeared 10 time(s) in the Harry Potter and the Philosopher's stone\n",
            "The word 'luck' appeared 10 time(s) in the Harry Potter and the Philosopher's stone\n",
            "The word 'knowing' appeared 10 time(s) in the Harry Potter and the Philosopher's stone\n",
            "The word 'dream' appeared 10 time(s) in the Harry Potter and the Philosopher's stone\n",
            "The word 'pulling' appeared 10 time(s) in the Harry Potter and the Philosopher's stone\n",
            "The word 'stairs' appeared 10 time(s) in the Harry Potter and the Philosopher's stone\n",
            "The word 'hidden' appeared 10 time(s) in the Harry Potter and the Philosopher's stone\n",
            "The word 'presents' appeared 10 time(s) in the Harry Potter and the Philosopher's stone\n",
            "The word 'television' appeared 10 time(s) in the Harry Potter and the Philosopher's stone\n",
            "The word 'unless' appeared 10 time(s) in the Harry Potter and the Philosopher's stone\n",
            "The word 'question' appeared 10 time(s) in the Harry Potter and the Philosopher's stone\n",
            "The word 'crash' appeared 10 time(s) in the Harry Potter and the Philosopher's stone\n",
            "The word 'egg' appeared 10 time(s) in the Harry Potter and the Philosopher's stone\n",
            "The word 'horror' appeared 10 time(s) in the Harry Potter and the Philosopher's stone\n",
            "The word 'reminded' appeared 10 time(s) in the Harry Potter and the Philosopher's stone\n",
            "The word 'sweater' appeared 10 time(s) in the Harry Potter and the Philosopher's stone\n",
            "The word 'surprise' appeared 10 time(s) in the Harry Potter and the Philosopher's stone\n",
            "The word 'locked' appeared 10 time(s) in the Harry Potter and the Philosopher's stone\n",
            "The word 'shouldn't' appeared 10 time(s) in the Harry Potter and the Philosopher's stone\n",
            "The word 'dangerous' appeared 10 time(s) in the Harry Potter and the Philosopher's stone\n",
            "The word 'bought' appeared 10 time(s) in the Harry Potter and the Philosopher's stone\n",
            "The word 'entrance' appeared 10 time(s) in the Harry Potter and the Philosopher's stone\n",
            "The word 'starting' appeared 10 time(s) in the Harry Potter and the Philosopher's stone\n",
            "The word 'windows' appeared 10 time(s) in the Harry Potter and the Philosopher's stone\n",
            "The word 'keeper' appeared 10 time(s) in the Harry Potter and the Philosopher's stone\n",
            "The word 'death' appeared 10 time(s) in the Harry Potter and the Philosopher's stone\n",
            "The word 'food' appeared 10 time(s) in the Harry Potter and the Philosopher's stone\n",
            "The word 'during' appeared 10 time(s) in the Harry Potter and the Philosopher's stone\n",
            "The word 'waved' appeared 10 time(s) in the Harry Potter and the Philosopher's stone\n",
            "The word 'holidays' appeared 10 time(s) in the Harry Potter and the Philosopher's stone\n",
            "The word 'flat' appeared 10 time(s) in the Harry Potter and the Philosopher's stone\n",
            "The word 'carried' appeared 10 time(s) in the Harry Potter and the Philosopher's stone\n",
            "The word 'stick' appeared 10 time(s) in the Harry Potter and the Philosopher's stone\n",
            "The word 'mistake' appeared 10 time(s) in the Harry Potter and the Philosopher's stone\n",
            "The word 'ear' appeared 10 time(s) in the Harry Potter and the Philosopher's stone\n",
            "The word 'who's' appeared 10 time(s) in the Harry Potter and the Philosopher's stone\n",
            "The word 'working' appeared 10 time(s) in the Harry Potter and the Philosopher's stone\n",
            "The word 'earth' appeared 10 time(s) in the Harry Potter and the Philosopher's stone\n",
            "The word 'eat' appeared 10 time(s) in the Harry Potter and the Philosopher's stone\n",
            "The word 'tomorrow' appeared 10 time(s) in the Harry Potter and the Philosopher's stone\n",
            "The word 'storm' appeared 10 time(s) in the Harry Potter and the Philosopher's stone\n",
            "The word 'agreed' appeared 10 time(s) in the Harry Potter and the Philosopher's stone\n",
            "The word 'boat' appeared 10 time(s) in the Harry Potter and the Philosopher's stone\n",
            "The word 'sofa' appeared 10 time(s) in the Harry Potter and the Philosopher's stone\n",
            "The word 'pockets' appeared 10 time(s) in the Harry Potter and the Philosopher's stone\n",
            "The word 'wonder' appeared 10 time(s) in the Harry Potter and the Philosopher's stone\n",
            "The word 'sounded' appeared 10 time(s) in the Harry Potter and the Philosopher's stone\n",
            "The word 'indeed' appeared 10 time(s) in the Harry Potter and the Philosopher's stone\n",
            "The word 'girl' appeared 10 time(s) in the Harry Potter and the Philosopher's stone\n",
            "The word 'outta' appeared 10 time(s) in the Harry Potter and the Philosopher's stone\n",
            "The word 'halloween' appeared 10 time(s) in the Harry Potter and the Philosopher's stone\n",
            "The word 'curse' appeared 10 time(s) in the Harry Potter and the Philosopher's stone\n",
            "The word 'remembered' appeared 10 time(s) in the Harry Potter and the Philosopher's stone\n",
            "The word 'umbrella' appeared 10 time(s) in the Harry Potter and the Philosopher's stone\n",
            "The word 'lock' appeared 10 time(s) in the Harry Potter and the Philosopher's stone\n",
            "The word 'row' appeared 10 time(s) in the Harry Potter and the Philosopher's stone\n",
            "The word 'barrier' appeared 10 time(s) in the Harry Potter and the Philosopher's stone\n",
            "The word 'leaky' appeared 10 time(s) in the Harry Potter and the Philosopher's stone\n",
            "The word 'goblin' appeared 10 time(s) in the Harry Potter and the Philosopher's stone\n",
            "The word 'vault' appeared 10 time(s) in the Harry Potter and the Philosopher's stone\n",
            "The word 'narrow' appeared 10 time(s) in the Harry Potter and the Philosopher's stone\n",
            "The word 'interesting' appeared 10 time(s) in the Harry Potter and the Philosopher's stone\n",
            "The word 'cross' appeared 10 time(s) in the Harry Potter and the Philosopher's stone\n",
            "The word 'lee' appeared 10 time(s) in the Harry Potter and the Philosopher's stone\n",
            "The word 'prefect' appeared 10 time(s) in the Harry Potter and the Philosopher's stone\n",
            "The word 'hang' appeared 10 time(s) in the Harry Potter and the Philosopher's stone\n",
            "The word 'let's' appeared 10 time(s) in the Harry Potter and the Philosopher's stone\n",
            "The word 'ravenclaw' appeared 10 time(s) in the Harry Potter and the Philosopher's stone\n",
            "The word 'studying' appeared 10 time(s) in the Harry Potter and the Philosopher's stone\n",
            "The word 'draco' appeared 10 time(s) in the Harry Potter and the Philosopher's stone\n",
            "The word 'doesn't' appeared 10 time(s) in the Harry Potter and the Philosopher's stone\n",
            "The word 'corridors' appeared 10 time(s) in the Harry Potter and the Philosopher's stone\n",
            "The word 'joined' appeared 10 time(s) in the Harry Potter and the Philosopher's stone\n",
            "The word 'dormitory' appeared 10 time(s) in the Harry Potter and the Philosopher's stone\n",
            "The word 'teacher' appeared 10 time(s) in the Harry Potter and the Philosopher's stone\n",
            "The word 'invisible' appeared 10 time(s) in the Harry Potter and the Philosopher's stone\n",
            "The word 'save' appeared 10 time(s) in the Harry Potter and the Philosopher's stone\n",
            "The word 'plant' appeared 10 time(s) in the Harry Potter and the Philosopher's stone\n",
            "The word 'clearing' appeared 10 time(s) in the Harry Potter and the Philosopher's stone\n",
            "The word 'trapdoor' appeared 10 time(s) in the Harry Potter and the Philosopher's stone\n"
          ]
        }
      ]
    },
    {
      "cell_type": "markdown",
      "metadata": {
        "id": "UOJeSXDwpLws"
      },
      "source": [
        "Here we are going to see a list with all the words that has 1 occurrency on the book and the occoruncy of the word or words that is(are) the most used in the book."
      ]
    },
    {
      "cell_type": "code",
      "metadata": {
        "colab": {
          "base_uri": "https://localhost:8080/"
        },
        "id": "JKzwsqaylaMN",
        "outputId": "0f15df6a-1b52-4b47-8ac7-9bde02929bf3"
      },
      "source": [
        "best_key = 0\n",
        "worst_key_list = []\n",
        "for key in keys:\n",
        "  if words_frequency_hp1[key] > best_key:\n",
        "    best_key = words_frequency_hp1[key]\n",
        "  if words_frequency_hp1[key] == 1:\n",
        "    worst_key_list.append(key)\n",
        "print (best_key)\n",
        "print(worst_key_list)\n",
        "print(len(worst_key_list))"
      ],
      "execution_count": 15,
      "outputs": [
        {
          "output_type": "stream",
          "name": "stdout",
          "text": [
            "3628\n",
            "['beefy', 'amount', 'fences', 'discover', 'goodfornothing', 'husband', 'undursleyish', 'tie', 'gossiped', 'wrestled', 'briefcase', 'pecked', 'cereal', \"four's\", 'maps', 'signs', 'getups', 'drummed', 'wheel', 'enraged', 'stunt', 'ninth', 'swoop', 'gazed', 'owlfree', 'stretch', 'bakery', \"baker's\", 'tin', 'doughnut', 'whisperers', 'secretary', 'dialing', 'receiver', 'harvey', 'harold', 'squeaky', 'rejoice', 'approve', 'driveway', 'shoo', 'behavior', \"door's\", 'daughter', 'act', 'birdwatchers', 'reported', \"nation's\", 'hunt', 'sightings', 'sunrise', 'experts', 'pattern', 'newscaster', 'mcguffin', 'showers', 'ted', 'weatherman', 'viewers', 'dundee', 'phoning', 'downpour', 'bonfire', 'folks', 'funnylooking', 'sipped', 'pursed', 'howard', 'related', 'affect', 'drifting', 'sleepiness', \"cat's\", 'judging', 'tuck', 'belt', 'highheeled', 'buckled', 'unwelcome', 'cigarette', 'pinpricks', 'beadyeyed', 'pavement', 'fancy', 'severelooking', 'distinctly', 'livingroom', 'flocks', 'swapping', 'thankful', 'sensible', \"'you\", \"knowwho'\", 'flinched', 'unsticking', \"'youknowwho'\", 'haven', 'exasperated', 'flatter', 'earmuffs', 'discuss', \"godric's\", 'hollow', 'rumor', 'glumly', 'faltered', 'astounding', 'survive', 'lace', 'dabbed', 'kicking', 'legend', 'growing', 'grudgingly', 'tend', 'steadily', 'louder', 'headlight', 'astride', 'tangles', 'lids', 'dolphins', 'muscular', \"swarmin'\", \"flyin'\", 'bristol', 'tuft', 'jetblack', 'handy', 'scratchy', 'whiskery', 'howl', 'wounded', 'shhh', 'sssorry', 'burying', \"cccan't\", 'gingerly', 'celebrations', \"g'night\", 'reply', 'lamps', 'slinking', 'hedges', 'inky', 'waking', \"hours'\", 'milk', 'pinched', 'gardens', 'fateful', 'mantelpiece', 'pictures', 'beach', 'differentcolored', 'bonnets', 'riding', 'bicycle', 'carousel', 'shrill', 'pan', 'stove', \"duddy's\", 'spider', 'mystery', 'skinnier', 'scotch', 'punched', 'comb', 'greeting', 'haircuts', 'watery', 'angel', 'thirtysix', 'darling', 'daddy', 'thirtyseven', 'wolfing', 'scented', 'popkin', \"right''\", 'thirtynine', 'sweetums', \"money's\", \"'atta\", 'wristwatch', 'parks', 'movies', 'cabbage', 'planned', 'tibbles', 'tufty', 'phone', \"what'shername\", 'yvonne', 'majorca', 'ruins', \"car's\", 'dinky', 'duddydums', 'mummy', 'flinging', 'sobs', 'sp', 'spoils', 'doorbell', 'barbers', 'scissors', 'sleepless', 'sheared', 'puff', 'puppet', 'shrunk', 'buildings', 'cans', 'mid', 'spending', 'cabbagesmelling', 'council', 'maniacs', 'hoodlums', 'overtook', 'beet', 'cartoon', 'van', 'cheap', 'gorilla', 'remarkably', 'hobby', 'restaurant', 'knickerbocker', 'lizards', 'snakes', 'cobras', 'mancrushing', 'pythons', 'largest', 'crushed', 'glistening', 'coils', 'whined', 'smartly', 'snoozed', 'intently', 'boredom', 'drumming', 'beady', 'specimen', 'bred', 'waddling', 'concrete', \"constrictor's\", 'uncoiling', 'rapidly', 'throughout', 'exits', 'thanksss', 'amigo', 'apologized', 'gibber', 'playfully', 'heels', 'swearing', 'squeeze', 'calming', 'meals', 'vision', 'relation', 'wildlooking', 'bus', 'weirdest', 'disagree', 'brazilian', 'earned', 'longestever', 'crutches', 'dennis', 'malcolm', 'gordon', 'stupidest', 'leader', 'hunting', 'secondary', 'local', \"toilet's\", 'wasn', 'tripping', 'paraded', 'brandnew', \"smeltings'\", 'tailcoats', 'straw', 'boaters', 'proudest', 'dudleykins', 'grownup', 'rags', 'dota', 'dyeing', 'doubted', 'elephant', 'click', 'flop', 'poke', 'vacationing', 'isle', 'wight', 'twanging', 'elastic', 'band', 'relatives', 'whinging', 'surrey', 'seal', 'bearing', 'badger', 'bombs', 'whelk', 'snatch', 'grayish', 'pppetunia', 'seeming', 'scruffs', 'promptly', 'sleeps', 'pacing', 'swear', 'breaths', 'bedrooms', 'visitors', 'monthold', \"neighbor's\", 'firstever', 'program', 'canceled', 'birdcage', 'parrot', 'bawling', 'whacked', 'tortoise', 'greenhouse', \"'mr\", 'strangled', 'wrestle', 'wheezed', 'repaired', 'postman', 'hammered', \"uncle's\", 'didnt', 'nailed', 'nail', 'fruitcake', 'slotted', 'hammer', 'boarded', 'tulips', 'twentyfour', 'milkman', 'dairy', 'shredded', 'processor', 'sunday', 'sundays', 'newspapers', 'damn', 'whizzing', 'forty', 'bullets', 'tufts', 'arguments', 'boardedup', 'highway', 'sniffling', 'sports', \"shake'em\", 'nightfall', 'programs', 'alien', 'gloomylooking', 'outskirts', 'city', 'musty', 'snored', 'cars', 'stale', 'cornflakes', 'tinned', 'tomatoes', 'owner', \"'scuse\", \"'undred\", '17', 'railview', 'cokeworth', 'dining', 'plowed', 'suspension', 'bridge', 'multilevel', 'garage', \"daddy's\", 'dully', 'parked', 'coast', 'ley', 'sniveled', \"humberto's\", 'eleventh', 'birthdays', 'hanger', 'certain', 'forecast', 'gleefully', \"gentleman's\", 'lend', 'ambling', 'rowboat', 'irongray', 'aboard', 'chilly', 'seaweed', 'gaps', 'chips', 'bananas', 'smoked', 'waves', 'splattered', 'filthy', 'motheaten', 'softest', 'curl', 'thinnest', 'ragged', 'blanket', 'raged', 'ferociously', 'snores', 'thunder', 'dial', 'tick', 'writer', 'creak', 'warmer', 'slapping', 'crumbling', 'annoy', 'skidding', 'hinges', 'beetles', 'stooping', 'brushed', 'crinkled', 'rasping', 'demand', 'prune', 'gun', 'knot', 'rubber', 'squashed', 'icing', 'introduced', 'stronger', 'bath', 'weight', 'mugs', 'amber', 'liquid', 'swig', 'sizzling', 'juicy', 'burnt', 'fidgeted', \"puddin'\", \"fattenin'\", 'sony', \"it'\", \"cryin'\", 'fill', 'cowering', 'math', 'explode', 'boomed', 'mimblewimble', 'fixing', 'commanded', 'quailed', 'syllable', 'boil', \"thumpin'\", \"good'un\", 'trained', 'hutontherock', 'grand', 'sorc', 'chf', 'warlock', 'supreme', 'mugwump', 'international', 'confed', 'inform', 'enclosed', 'necessary', 'sincerely', 'minerva', 'deputy', 'fireworks', \"gallopin'\", 'gorgons', 'ruffledlooking', 'upside', \"weather's\", 'ashenfaced', 'firelight', 'nonmagic', 'thern', 'dratted', 'thatthat', 'schooland', 'spawn', 'teacups', 'freak', 'draw', 'ranting', 'abnormal', 'outrage', 'scandal', 'parts', \"gulpin'\", 'gargoyles', 'foghorn', 'mckinnons', 'prewetts', 'cruel', 'load', 'tosh', 'cured', 'denying', \"world's\", 'types', 'sword', 'speared', 'bearded', \"why'd\", \"bidin'\", 'kinda', 'trances', 'don~', \"comin'\", 'respect', 'clouted', 'bullied', 'defeated', 'sorcerer', 'football', 'revenge', 'positively', \"potter'\", 'born', 'finest', 'youngsters', 'dumbled', 'paying', 'crackpot', 'tricks', 'insult', 'firecracker', 'curly', \"pig's\", 'ruefully', 'strictly', \"speakin'\", 'kip', 'wriggles', 'dormice', 'rapping', 'claw', 'swelling', 'savaging', \"payin'\", \"deliverin'\", 'bunches', 'pellets', 'string', 'teabags', 'strangelooking', 'pouch', 'puncture', 'um', 'mm', 'teh', 'banks', \"'cept\", \"fetchin'\", 'gleamed', 'hired', 'settled', \"mentionin'\", 'highsecurity', \"tryin'\", \"messin'\", 'minister', '0', 'cornelius', 'bungler', 'pelts', \"everyone'd\", \"wantin'\", 'solutions', 'bumped', 'meters', 'panting', 'crikey', 'bills', 'tickets', 'knitting', 'canaryyellow', 'circus', 'stitches', 'unfolded', 'require', 'sets', 'protective', 'similar', 'winter', 'fastenings', \"pupils'\", 'tags', 'grade', 'miranda', 'goshawk', 'bathilda', 'bagshot', 'theory', 'adalbert', 'waffling', \"beginners'\", 'switch', 'phyllida', 'spore', 'drafts', 'arsenius', 'jigger', 'newt', 'scamander', 'forces', 'selfprotection', 'quentin', 'trimble', 'phials', 'trains', 'bustling', 'stores', 'cinemas', 'sell', 'cooked', 'humor', 'unbelievable', 'trusting', 'grubbylooking', 'steered', 'sherry', 'smoking', 'buzz', 'tom', 'grasping', \"ccan't\", 'ttell', 'ddefense', 'dddark', 'nnot', 'nneed', 'ggetting', 'ggot', 'ppick', 'bbook', 'mmyself', 'walled', 'weeds', 'bloke', \"studyin'\", 'firsthand', 'experience', 'hag', 'hags', 'bricks', 'cobbled', 'shrink', 'instantly', 'sizes', \"needin'\", 'hooting', 'instruments', 'spleens', \"eels'\", 'tottering', 'globes', 'burnished', 'shorter', 'swarthy', 'engraved', 'heed', 'awaits', 'sin', 'dearly', 'thief', 'beware', 'scribbling', 'ledgers', 'examining', 'eyeglasses', \"goblin's\", 'rubies', 'coals', 'mysteriously', \"job's\", 'steeply', 'railway', 'hurtling', 'maze', 'passages', 'stung', 'stalactites', 'stalagmites', 'stalagmite', 'stalactite', \"stalagmite's\", \"'m'\", 'lean', 'mounds', 'columns', 'heaps', 'belonging', 'galleon', 'twentynine', 'terms', 'corners', 'ravine', 'scruff', 'sucked', 'fabulous', 'jewels', 'longed', 'infernal', 'pickmeup', 'carts', 'squat', 'mauve', 'bully', 'smuggle', 'mmm', 'works', 'savage', 'surname', 'raspberry', 'chopped', 'lied', 'wrote', \"forgettin'\", 'pate', \"wizardin'\", 'duffers', 'gloomily', 'flourish', 'blotts', 'paving', 'stamps', 'symbols', 'countercurses', 'bewitch', 'befuddle', 'revenges', 'loss', 'jellylegs', 'tying', 'vindictus', 'viridian', \"couldn'\", 'fascinating', 'rotted', 'cabbages', 'slimy', 'powders', 'bundles', 'strings', 'supply', 'basic', 'twentyone', 'minuscule', 'glitteryblack', 'scoop', 'sneeze', 'kids', 'stammering', 'lotta', 'makers', '382', 'bc', 'cushion', 'tinkling', 'occurred', 'dust', 'tingle', 'awkwardly', 'quarter', 'swishy', 'willow', 'pliable', 'bendy', 'hmmm', 'righthanded', 'armpit', 'core', 'heartstrings', 'phoenixes', 'flitting', 'beechwood', 'heartstring', 'flexible', 'maple', 'whippy', 'ebony', 'springy', 'mounting', 'customer', 'combination', 'supple', 'firework', 'whooped', 'bravo', 'destined', 'whomustnotbenamed', 'gawking', 'funnyshaped', 'paddington', 'chewed', 'beginning', 'singled', \"'smatter\", 'improvement', 'depressing', 'vacuum', 'august', 'quiz', 'grunt', 'carpets', 'punctures', 'barking', 'removed', 'jeans', 'loaded', 'dumped', 'built', 'nastier', 'annoyed', 'wasters', 'according', 'arrivals', 'stranded', \"inspector's\", 'speaker', 'piped', 'dividing', 'tourists', 'swarming', 'backpack', 'sons', 'gangling', 'trolley', 'steam', 'wroughtiron', 'carriages', 'dreadlocks', 'surrounded', 'lid', 'shove', 'heave', \"c'mere\", 'chorused', 'gawked', \"train's\", 'geroff', 'aaah', 'ronnie', 'somefink', 'nosie', 'compartments', 'fondly', 'behave', 'ronniekins', 'rubbed', \"girl's\", 'goggle', 'reminding', 'disappear', \"jordan's\", 'tarantula', \"george's\", 'jokes', 'accountant', 'expects', 'useless', 'wakes', 'aff', 'voicing', 'cows', 'sheep', 'lanes', 'clattering', 'dimpled', 'dears', \"drooble's\", 'gum', 'licorice', 'starving', 'forgets', 'corned', 'swap', 'candies', 'ptolemy', 'flowing', 'considered', 'tenpin', 'bowling', 'astonishment', 'strayed', 'hengist', 'woodcroft', 'alberic', 'grunnion', 'circe', 'paracelsus', 'druidess', 'cliodna', 'bertie', 'mar', 'malade', 'spinach', 'tripe', 'booger', 'flavored', 'bleaaargh', 'sprouts', 'strawberry', 'curry', 'coffee', 'sardine', 'pepper', 'wilder', 'woods', 'rivers', 'hills', 'tearful', 'snoozing', 'rummaged', 'batteredlooking', \"hair's\", \"'wand\", 'aback', 'daisies', 'butter', 'mellow', 'background', 'dazed', 'settling', 'depressed', \"scabbers'\", 'africa', 'prickle', 'knowwho', 'confessed', 'dumbfounded', 'positions', 'describing', 'thickset', 'bodyguards', 'carelessly', 'cough', 'snigget', 'tinge', 'cheeks', 'politer', 'riffraff', 'rub', 'knuckle', 'scabbets', 'conductor', 'childishly', 'sniffy', 'dirt', 'forests', 'slowing', 'sneakers', 'luggage', 'separately', 'lurched', 'thronging', 'familiar', \"c'mon\", 'stumbling', \"ye'\", 'sec', 'oooooh', 'atop', 'starry', 'turrets', 'shore', 'curtain', 'ivy', 'opening', 'tunnel', 'rocks', 'pebbles', 'blissfully', 'upper', 'flagged', 'drone', 'produced', 'triumphs', 'rulebreaking', 'credit', 'becomes', 'smarten', 'lingered', 'fastened', 'smudged', 'hurts', 'doom', 'transparent', 'monk', 'chances', 'deserves', 'tights', 'mutely', \"ceremony's\", 'sandy', 'goblets', 'lanterns', 'candlelight', 'avoid', 'velvety', 'placed', 'fourlegged', 'patched', 'frayed', 'brim', 'judge', 'smarter', 'bowlers', 'chivalry', 'loyal', 'patient', 'hufflepuffis', 'unafraid', 'toil', 'wit', 'cunning', 'achieve', 'flap', 'weakly', 'alot', 'quickwitted', 'queasy', 'abbott', 'pinkfaced', 'pigtails', 'brocklehurst', 'mandy', 'catcalling', 'bulstrode', 'millicent', 'gym', 'finchfletchley', 'justin', 'declared', 'thoughts', 'amid', 'gales', 'macdougal', 'morag', 'swaggered', 'nott', 'perks', 'sallyanne', 'hmm', 'plenty', 'talent', 'thirst', 'prove', 'edges', 'greatness', 'icecold', 'thumbs', 'center', 'quirtell', 'turpin', 'lisa', 'pompously', 'zabini', 'blaise', 'scroll', 'nitwit', 'blubber', 'oddment', 'tweak', 'airily', 'dishes', 'pork', 'lamb', 'fries', 'carrots', 'starved', 'peppermints', 'troduced', 'mimsyporpington', 'service', 'resident', 'prefer', 'mimsy', 'miffed', 'hinge', 'behead', 'unbearable', 'gaunt', 'stained', 'seating', 'arrangements', 'delicately', 'remains', 'blocks', 'apple', 'pies', 'tarts', 'eclairs', 'doughnuts', 'strawberries', 'jello', 'rice', 'halfandhalf', \"dad's\", 'blackpool', 'pier', 'enid', 'meringue', 'bounced', 'absurd', 'hooked', 'sallow', 'nnothing', 'teaches', 'awful', 'ahern', 'watered', 'notices', 'pupils', 'remind', 'trials', 'righthand', 'bounds', \"forest's\", \"teachers'\", 'ribbon', 'hoggy', 'scabby', 'filling', 'flies', 'fluff', 'forgot', 'rot', 'funeral', 'march', 'conducted', 'beyond', 'bedtime', 'trot', 'doorways', 'panels', 'tapestries', 'dragging', 'farther', 'legged', 'oooooooh', 'cackle', \"baron'll\", 'dress', 'caput', 'draconis', 'directed', 'fourposters', 'velvet', 'chewing', 'transfer', 'destiny', 'sweating', 'lining', 'doubled', 'fortytwo', 'rickety', 'politely', 'tickled', 'baskets', 'rugs', 'pelt', 'sneak', 'conk', 'argus', 'unluckily', 'rescued', 'dustcolored', 'patrolled', 'toe', 'whisk', 'appear', 'dearest', 'skies', 'greenhouses', 'dumpy', 'plants', 'droned', 'uric', 'oddball', 'talkingto', 'complex', 'furniture', 'needle', 'pointy', 'ward', 'vampire', 'african', 'prince', 'thankyou', 'troublesome', 'poured', 'owners', 'laps', 'scrawl', 'afternoons', 'disliked', 'dislike', 'pickled', 'celebrity', 'tunnels', 'subtle', 'science', 'exact', 'art', 'potionmaking', 'y', 'wandwaving', 'beauty', 'simmering', 'shimmering', 'fumes', 'delicate', 'liquids', 'veins', 'ensnaring', 'brew', 'stopper', 'dunderheads', 'exchanged', 'proving', 'dunderhead', 'ignoring', 'information', 'draught', 'goat', 'poisons', 'aconite', 'continued', 'cure', 'weigh', 'nettles', 'crush', 'criticizing', 'whom', 'stewed', 'horned', 'slugs', 'acid', 'melt', 'blob', 'seeping', 'holes', 'drenched', 'spilled', 'porcupine', 'whimpered', 'unfair', 'doi*', 'galoshes', 'frantic', 'scrabbling', 'booming', 'barks', 'collar', 'hams', 'pheasants', 'patchwork', 'quilt', 'yerselves', 'pouring', \"chasin'\", 'shapeless', 'lumps', 'raisins', 'rested', 'drooled', 'sometime', 'cutting', 'investigations', 'widely', 'spokesgoblin', \"might've\", 'thieves', 'weighed', 'collected', 'groan', 'typical', 'reasonably', 'boastful', 'narrowly', 'helicopters', 'childhood', 'glider', 'constantly', 'argument', 'prodding', 'poster', 'tips', 'lecture', 'arrival', 'gloatingly', 'tells', 'threethirty', 'breezy', 'rippled', 'sloping', 'lawns', 'lawn', 'swaying', 'vibrate', \"'up'\", 'upf', 'horses', 'quaver', 'correcting', 'grips', 'jumpy', \"hooch's\", 'cork', 'drift', 'lazily', 'bending', \"'quidditch'\", 'tearstreaked', 'hobbled', 'ooh', 'pansy', 'hardfaced', 'crybabies', 'snatching', \"longbottom's\", 'hovering', 'topmost', 'whoop', 'grasped', 'javelin', 'aboutface', 'motion', 'mingled', 'triumphant', 'numbly', 'defend', 'trotting', 'assistant', 'cane', 'burly', 'fifthyear', 'flitwicles', 'blackboard', 'clanged', 'puzzlement', 'crisply', 'fiftyfoot', 'scratch', 'build', 'speedy', 'decent', 'cleansweep', 'sternly', 'punishing', 'dinnertime', 'kidney', 'shoveling', 'gaped', \"year's\", 'skipping', 'gregory', 'smarmy', 'flanked', 'scowl', 'anytime', 'sizing', \"second's\", 'catching', 'duels', \"malfoy'll\", 'punch', 'overhearing', 'selfish', 'dodge', 'sneering', 'looming', 'halfpast', 'embers', 'frown', 'goose', 'switching', 'painting', 'shrilly', 're', 'snuffling', \"password's\", \"'pig\", \"snout'\", \"lady's\", 'mended', 'beckoned', 'striped', 'tiptoed', 'cases', 'glimmered', 'shields', 'statues', 'chickened', 'horrorstruck', 'scurried', 'suits', 'clanging', 'doorpost', 'galloped', 'tapestry', 'spluttering', 'stitch', 'tricked', 'caughty', 'saintly', 'wickedly', 'swipe', 'helplessly', \"peeves's\", 'shouts', \"'alohomora\", \"'please'\", \"shan't\", 'singsong', 'haaa', 'haaaaaa', 'whooshing', 'tugging', 'drooling', 'saliva', 'slippery', 'thunderous', 'groped', 'monster', 'littie', 'meantime', 'object', 'guessing', 'further', 'slightest', 'refusing', 'knowitall', 'bonus', 'contains', 'enviously', 'barred', 'jealousy', 'spite', 'resist', 'comet', 'comets', 'flashy', 'league', 'model', 'smothering', \"wouln't\", 'reward', 'stomping', 'disapprovingly', 'straying', 'bedspread', 'dusk', 'stadium', 'spectators', 'poles', 'lightest', \"down'\", 'fie', 'joining', 'differentsized', \"ball's\", 'recited', 'scoring', 'baseball', 'identical', 'straps', 'freed', 'pelted', 'zoomed', 'forcing', 'strapping', 'rocket', 'guards', 'reeled', 'offhand', 'member', \"seeker's\", 'weave', \"team's\", 'catches', 'fouled', 'substitutes', \"cup'll\", 'trudged', 'evenings', 'mastered', 'basics', 'baking', 'wafting', 'objects', 'zoom', 'angrier', 'spoken', 'baruffio', \"'s'\", \"'f'\", 'buffalo', 'swished', 'desktop', 'impatient', 'windmill', 'winggardium', \"'gar'\", 'gown', 'glimpse', 'uncomfortable', 'overheard', 'awkward', 'bats', 'pumpkins', 'potato', 'uproar', 'firecrackers', 'exploding', 'rumbled', 'element', \"percy'd\", 'deserted', 'griffin', 'heading', 'stench', 'grunting', 'footfalls', 'emerged', 'granite', 'boulder', 'horny', 'waggled', 'slouched', 'praying', 'slam', \"'yes\", 'chained', 'fumbling', 'shrinking', 'advancing', 'sinks', 'confuse', 'seizing', 'lumbered', 'lifting', 'peabrain', 'ugly', 'echoes', 'berserk', 'fasten', 'flailed', 'clinging', 'fright', \"owner's\", 'tremble', 'glue', 'urgh', 'boogers', 'crashes', 'roars', 'whimper', 'hopes', 'swift', 'fetch', 'tackling', 'disappointed', 'finishing', 'fullgrown', 'grumbled', 'saving', 'ending', 'twelvefoot', 'november', 'chilled', 'steel', 'frost', 'defrosting', 'bundled', 'fur', 'beaverskin', 'season', 'begun', 'versus', 'weapon', 'leaked', 'mattress', 'hermlone', 'committing', '1473', 'rarely', 'referees', 'sahara', 'desert', 'relaxed', 'conjured', 'yard', 'limping', 'answers', 'restless', 'scene', 'mangled', 'bandages', 'blasted', 'thing*', 'id', 'diversion', 'saints', 'buzzing', 'snoring', 'dawned', 'fried', 'ful', 'wheedled', \"hour's\", 'clobbered', 'pitch', 'fan', 'painted', 'paint', \"oliver's\", \"gryffindor's\", 'flashing', 'skipped', 'attractive', 'commentary', 'belting', 'alicia', 'gains', 'sc', 'katie', 'beater', 'dodges', 'bletchley', 'dives', 'misses', 'moans', \"watchin'\", \"bein'\", 'nope', 'speck', 'attacked', 'looptheloops', \"weasleys'\", 'wristwatches', 'cannonball', 'ducks', 'speeds', 'murmur', 'streak', 'terence', 'spurt', 'spun', 'ref', 'oughta', 'coulda', 'cheating', \"'jordan\", 'kills', 'spinner', 'spinning', 'dangerously', 'lurch', 'riders', 'timeout', 'violent', 'unseated', 'commentating', 'jerking', 'managing', 'grayfaced', 'nonstop', 'jinxing', 'vibrating', 'circled', 'headfirst', 'crouched', 'hem', 'yelp', 'scooping', 'fours', 'ended', 'greek', 'chappie', \"afternoon's\", 'jinx', \"tellin'\", 'hotly', \"meddlin'\", 'aha', 'middecember', 'froze', 'snowballs', 'stormy', 'nursed', 'health', 'drafty', 'bitter', 'mist', 'spine', 'lionfish', 'widemouthed', 'replacing', 'bucking', 'jealous', 'taunting', 'fir', 'blocking', 'hi', 'drawl', 'palace', 'provoked', \"insultin'\", 'silkily', 'smirking', 'grinding', 'treat', 'festoons', 'mistletoe', 'icicles', 'blossoming', 'hint', 'nothin', 'searching', 'notable', 'sheer', 'tens', 'random', 'specially', 'containing', 'advanced', 'librarian', 'brandished', 'duster', 'hearing', 'hopeful', 'surprising', \"it'd\", 'dentists', 'emptier', 'spear', 'toasting', 'bread', 'english', 'muffins', 'marshmallows', 'plotting', 'teaching', 'figures', 'directing', 'troops', 'drawback', 'eve', 'turnips', 'scrawled', 'whittled', 'message', 'enclose', 'fiftypence', 'fascinated', 'pence', \"'nmat\", \"one's\", 'handknitted', 'homemade', \"mine's\", 'tasty', 'fluid', 'folds', 'cloth', 'woven', 'awe', 'suspended', 'loopy', 'signature', 'sweaters', 'f', 'g', 'lovely', 'halfheartedly', 'observed', 'gred', 'forge', 'th', 'disapproving', 'thickly', 'frogmarched', 'turkeys', 'platters', 'chipolatas', 'tureens', 'buttered', 'cranberry', 'sauce', 'stacks', 'flimsy', 'cracker', 'bang', 'engulfed', \"admiral's\", 'flowered', 'bonnet', 'puddings', 'embedded', 'slice', 'kissing', 'giggled', 'lopsided', 'including', 'nonexplodable', 'balloons', 'growyourownwarts', 'kit', \"norris's\", 'snowball', 'spectacularly', 'crumpets', 'chase', 'whoever', 'fourposter', 'flow', 'smoother', 'wideawake', 'squawked', 'pitchblack', 'eerie', 'supporting', 'creeps', 'ping', 'rope', 'separated', 'spelled', 'languages', 'title', 'stain', 'interestinglooking', 'volume', 'balancing', 'bloodcurdling', 'unbroken', 'earsplitting', 'panicking', 'shrieking', 'outstretched', \"book's\", 'ringing', 'directly', \"somebody's\", 'drain', 'shortcut', 'replied', 'unused', 'shapes', 'upturned', 'basket', 'propped', 'ornate', 'clawed', 'inscription', 'stra', 'ehru', 'ube', 'cafru', 'wohsi', \"mirror's\", 'existed', 'edging', 'ache', 'sadness', 'fade', 'crossly', 'retracing', 'route', 'paisley', 'image', 'discussion', 'shaves', 'grandfathers', 'nearsighted', 'discovered', 'delights', 'happiest', 'deepest', 'overshadowed', 'sees', 'knowledge', 'wasted', 'entranced', 'admirable', 'woolen', 'insist', 'truthful', 'shoved', 'personal', 'disappearing', 'drearns', 'roaming', 'nights', 'disappointment', 'li', 'brary', 'breaks', 'endless', 'replaced', 'dampen', 'fanatic', 'muddy', 'divebombing', 'mud', \"when's\", 'refereed', 'concen', 'sinister', 'climb', 'hop', 'chose', 'stinking', \"'dumbledore\", \"flamel'\", 'exchange', 'mystified', 'flicking', 'pages', 'dramatically', 'maker', 'effect', 'legendary', 'transform', 'produces', 'immortal', 'reports', 'centuries', 'existence', 'belongs', 'noted', 'alchemist', 'opera', 'lover', 'celebrated', 'sixtyfifth', 'devon', 'fiftyeight', 'stops', 'sixtyfive', 'treating', 'bites', 'discussing', 'wipe', 'overtaking', 'biased', 'weekly', 'torture', 'pep', 'grim', 'secretly', 'using', 'locomotor', 'mortis', 'nag', 'pressure', 'capture', 'favor', 'somersault', 'broadly', 'fixedly', 'howled', 'poorer', 'anxiety', 'bullet', 'leaping', 'scuffles', 'yelps', 'triumph', \"game's\", 'spilling', 'whitefaced', 'tightlipped', 'brooding', 'broomshed', 'reliving', 'blur', 'nosebleed', 'shed', \"figure's\", 'prowling', 'circles', 'brushing', 'noiselessly', 'beech', 'stuttering', \"ddon't\", 'pplaces', 'mumbling', 'bbbut', 'enemy', 'ii', 'steadied', 'hocuspocus', 'bbut', \"dddon't\", 'loyalties', 'thumping', 'singlehanded', 'pomftey', \"'hocus\", 'pocuss', 'paler', 'thinner', 'press', 'growling', 'encouraging', 'colorcoding', 'minded', 'easter', 'reciting', 'longingly', 'forgetmenot', 'dittany', 'shifty', \"what're\", 'suspicious', 'impressively', \"shoutin'\", \"promisin'\", \"rabbitin'\", \"aren'\", 'species', 'ireland', 'inferno', \"keeper's\", 'laws', 'outlawed', \"warlocks'\", 'convention', '1709', 'tame', 'burns', 'welsh', 'hebridean', 'blacks', 'hushing', 'earths', \"gamekeeper's\", 'stifling', 'refused', 'frowned', 'cant', \"s'ppose\", 'beats', 'flattering', \"s'pose\", 'protecting', 'guarded', 'fiddling', \"havin'\", 'honest', 'hatched', \"doin'\", \"readin'\", 'pleasure', 'profit', 'mothers', 'em', 'hatches', 'humming', 'stoked', 'peaceful', 'skip', 'argued', 'trowels', 'greeted', 'ushered', 'clicking', 'bated', 'spiny', 'stubs', 'sneezed', 'stroke', 'ridgebacks', \"runnin'\", 'darkened', 'furling', 'gamekeeping', 'duties', 'marbles', 'dump', 'chimed', 'lullaby', 'hitch', 'swollen', 'shade', 'feels', 'soothe', 'bandaged', 'puffed', 'stage', 'aargh', \"playin'\", 'rattle', 'arriving', 'tennis', 'lonely', 'byebye', 'shortcuts', 'forgetting', 'outlines', 'grappling', 'tartan', 'net', 'utter', 'easiest', 'jig', 'advised', 'cheery', 'harness', 'rigged', 'suspend', 'thanked', 'happiness', 'loomed', 'foribidden', 'excuses', 'alibis', 'cornered', 'creeping', 'violently', 'likely', 'slippers', 'cockandbull', 'blundering', 'receive', 'hourglasses', 'recorded', \"there'd\", 'lo', 'popular', 'admired', 'longing', 'insulted', 'owe', 'repair', 'meddle', \"good'll\", 'wellknown', 'memorize', 'rebellions', 'due', 'resolution', 'unexpected', 'whimpering', 'sob', 'straightening', 'meddling', 'gambled', 'spring', 'testing', 'kindling', \"dumbledore'll\", 'depended', 'jupiter', 'delivered', 'furor', 'deserved', 'lighting', 'leering', 'pity', 'punishments', 'wrists', 'chains', 'oiled', 'sniffing', 'scudding', 'oaf', 'mistaken', 'moan', \"should've\", 'arrows', \"waitin'\", \"lecturin'\", \"'snot\", 'yehve', \"copyin'\", \"good's\", \"father'd\", \"on'\", 'gaze', 'risks', 'track', \"shinin'\", 'trail', \"staggerin'\", \"fang's\", 'coward', \"hermione'll\", \"fang'll\", 'silverblue', 'mossy', 'stump', \"can't've\", 'hoisted', 'arrow', \"shouldn'\", \"horse's\", 'chestnut', 'reddish', \"centaur's\", 'sorrowful', 'loose', 'erm', 'innocent', 'victims', \"meanin'\", 'hides', 'secrets', 'bow', 'bodied', 'wilderlooking', 'injured', 'stargazers', \"closer'n\", 'mostly', \"turnin'\", 'undergrowth', 'sharper', 'fuming', 'sneaked', 'panicked', \"makin'\", \"changin'\", \"frightenin'\", 'thicker', 'splashes', 'inched', 'slender', 'freeze', 'stalking', 'cloaked', \"animal's\", 'aaaaaaaaaargh', 'dribbling', 'pierced', 'blinded', 'staggered', 'charging', 'whiteblond', 'palomino', 'astonishingly', 'sapphires', 'lingering', 'livid', 'flanks', 'heaving', 'mule', 'foretold', 'donkeys', 'stray', 'reared', 'hind', 'alongside', 'whisked', \"why's\", 'lowhanging', 'horn', 'slay', 'gain', 'commit', 'inch', 'price', 'slain', 'defenseless', 'halflife', \"firenze's\", 'dappled', 'deaths', 'clung', 'awaiting', 'iron', \"unicorn's\", 'wrongly', 'cantered', 'shivering', 'fouls', 'wideeyed', 'feverishly', \"bane'll\", 'fortunetelling', 'imprecise', 'branch', 'exhausted', 'throats', 'sweltering', 'anticheating', 'practical', 'pineapple', 'tapdance', 'forgetfulness', 'stabbing', 'pains', 'bothering', 'dripping', 'foreheads', 'visiting', 'fret', 'answering', 'batty', 'flocking', '1637', 'code', 'conduct', 'uprising', 'elfric', 'tickling', 'tentacles', 'squid', 'basking', 'shallows', \"danger's\", 'lets', 'unsettled', 'betray', 'grassy', 'slope', 'wander', 'law', 'shelling', \"hog's\", 'dealer', \"mightn'\", 'hood', \"can'\", \"buyin'\", 'dogs', \"fluffy's\", 'fishy', 'urgent', 'demands', 'winds', 'tone', 'tumbled', 'sn', \"someone's\", 'suspicion', 'assured', 'enjoy', 'wanderings', 'personally', \"'oh\", 'b', \"wrong'\", 'separating', 'stormed', 'whap', 'percent', 'putted', 'pocketed', 'bid', 'freedom', 'hurriedly', 'steeling', 'exasperation', 'petrificus', 'totalus', 'rigid', \"what've\", 'motionless', 'omen', \"statue's\", 'skulking', 'lamplike', 'carpet', 'ghoulie', 'ghostie', 'wee', 'beastie', 'acreeping', 'unseen', 'bloodiness', 'greasily', 'peevsie', 'scooted', 'impress', 'creaked', 'harp', \"beast's\", 'droop', 'ceased', 'tottered', 'smelly', 'approached', 'gritted', 'ring', \"seconds'\", 'fingertips', 'flump', 'thump', 'sprawled', 'bark', \"thing's\", 'struggle', 'twist', 'tendrils', 'creepers', 'tighter', 'curling', 'likes', 'wringing', 'bluebell', 'cringed', 'wriggling', 'flailing', 'unraveled', 'bodies', 'crisis', \"'there's\", \"wood'\", 'gentle', 'drip', 'trickling', 'fullygrown', 'clinking', 'brilliantly', 'arching', 'tumbling', 'vicious', 'beaks', 'untouched', 'tugged', 'alohomora', 'winged', 'squinted', 'flock', 'oldfashioned', 'midst', 'spotting', \"minute's\", 'weaving', 'rainbow', 'damaged', 'rocketed', 'rammed', 'chessboard', \"knight's\", 'helmeted', '90', 'plays', 'pawn', 'diagonally', 'smashed', 'limp', 'nof', 'sacrifices', 'checkmate', 'alternative', 'pounced', 'spaces', 'crown', 'charged', 'convince', \"reckon's\", \"sprout's\", 'transfigured', 'watering', 'larger', 'tackled', 'differently', 'threshold', 'safety', 'transport', 'killers', 'bidden', 'forevermore', 'slyly', \"wine's\", 'dwarf', 'holds', 'puzzle', 'swallow', 'cleverness', 'friendship', 'positive', 'wears', 'flooding', 'braced', 'treble', 'type', 'overgrown', 'suspect', 'pppoor', 'ststuttering', 'pprofessor', '\\\\why', 'unpopular', 'nosy', 'scurrying', 'concentrating', 'idly', 'frighten', 'presenting', 'loathed', 'spasm', \"master's\", 'instructions', 'traveled', 'served', 'faithfully', 'mistakes', 'displeased', 'trailed', 'myseff', 'bloodred', 'incredibly', 'rooting', 'muscle', 'slits', 'mere', 'vapor', \"another's\", 'willing', 'strengthened', 'faithful', 'create', 'surged', 'begging', 'liar', 'value', 'courageous', 'vain', 'flame', 'needlesharp', 'seared', 'lessened', 'lunged', \"feet'\", 'pinning', 'palms', 'raw', 'perform', 'instinct', 'aaaargh', 'yells', 'grasp', 'blackness', 'swam', 'linen', 'tokens', 'admirers', 'naturally', 'misters', 'responsible', 'hygienic', 'confiscated', 'distracted', 'prevent', 'blankly', 'stored', 'affairs', 'beings', 'precisely', 'increases', 'truly', 'nevertheless', 'merely', 'treated', 'beg', 'hatred', 'marked', 'bird', 'sheet', 'twinkled', 'detest', 'unlike', 'dreamily', 'debt', 'hating', 'otherwise', 'unfortunate', 'youth', 'vomitflavored', 'toffee', 'goldenbrown', 'nurse', 'pleaded', 'resting', 'fling', 'audience', \"'to\", \"'harry's\", \"he'\", 'stopping', 'accident', 'steamrollered', \"food'll\", 'bustled', 'stiffily', 'risky', 'indoors', 'chucked', 'grief', 'remorse', 'leaking', 'sandwich', 'chuckle', 'fix', 'shoulda', 'leathercovered', \"pomfrey's\", 'fussing', 'insisting', 'checkup', 'decked', \"slytherin's\", 'hush', 'fortunately', 'waffle', 'fuller', 'awarding', 'thus', 'fiftytwo', 'twentysix', 'stamping', 'account', \"slytherins'\", 'ahem', 'dish', 'radish', 'sunburn', 'bestplayed', 'din', 'seventytwo', 'gradually', 'kinds', 'takes', 'explosion', 'nudged', 'downfall', 'jot', 'grades', 'scraped', 'abysmal', 'wardrobes', 'toilets', 'boarding', 'greener', 'tidier', 'towns', 'wizened', 'gate', 'twos', 'threes', 'alarming', 'squealed', 'purplefaced', 'mustached', 'manner', 'holiday', 'spreading']\n",
            "2695\n"
          ]
        }
      ]
    },
    {
      "cell_type": "markdown",
      "metadata": {
        "id": "AuVskqECp6lO"
      },
      "source": [
        "We can se here that the most used word in th book is the word 'the'."
      ]
    },
    {
      "cell_type": "code",
      "metadata": {
        "colab": {
          "base_uri": "https://localhost:8080/"
        },
        "id": "lMrhRtEhplcG",
        "outputId": "bf666eb2-1585-4334-a52b-124cc2fbc5c1"
      },
      "source": [
        "best_key_list =[]\n",
        "for key in keys:\n",
        "  if words_frequency_hp1[key] == 3628:\n",
        "    best_key_list.append(key)\n",
        "print (best_key_list)"
      ],
      "execution_count": 16,
      "outputs": [
        {
          "output_type": "stream",
          "name": "stdout",
          "text": [
            "['the']\n"
          ]
        }
      ]
    },
    {
      "cell_type": "markdown",
      "metadata": {
        "id": "dxAfPcX_tcFe"
      },
      "source": [
        "I have to be honest, I don't have a clue why there is in our list the words \"interestinglooking\" and \"whomustnotbenamed\", I really don't. But if we take those words off in the equation, we can see that the biggest lengeth words are those with 9 characteres, and I used another for loop to see which words are those."
      ]
    },
    {
      "cell_type": "code",
      "metadata": {
        "colab": {
          "base_uri": "https://localhost:8080/"
        },
        "id": "DupwDFqwqPVV",
        "outputId": "bc12809d-b70f-4971-e4e9-818768ef0f35"
      },
      "source": [
        "biggest_len_word = 0\n",
        "biggest_words_list = []\n",
        "\n",
        "for key in keys:\n",
        "  if (len(key) > biggest_len_word) and key != \"interestinglooking\" or key != \"whomustnotbenamed\":\n",
        "    biggest_len_word = len(key)\n",
        "\n",
        "for key in keys:\n",
        "  if len(key) == biggest_len_word:\n",
        "    biggest_words_list.append(key)\n",
        "\n",
        "print (biggest_len_word)\n",
        "print(biggest_words_list)\n",
        "\n"
      ],
      "execution_count": 17,
      "outputs": [
        {
          "output_type": "stream",
          "name": "stdout",
          "text": [
            "9\n",
            "['perfectly', 'grunnings', 'neighbors', \"dursley's\", 'pretended', 'shuddered', 'happening', 'screaming', 'briefcase', 'something', 'strangely', 'excitedly', 'obviously', 'nighttime', 'different', 'important', 'telephone', 'lunchtime', 'forgotten', 'clutching', 'secretary', 'afternoon', 'passersby', 'imagining', 'unusually', 'sightings', 'direction', 'yorkshire', 'yesterday', 'nervously', 'sparkling', 'unwelcome', 'rummaging', 'cigarette', 'flickered', 'pinpricks', 'beadyeyed', 'professor', \"dursleys'\", 'celebrate', 'irritably', 'downright', 'certainly', 'voldemort', 'confusing', 'surprised', 'seriously', 'swallowed', 'headlight', 'carefully', 'destroyed', 'curiously', 'lightning', 'whispered', 'shoulders', 'furiously', 'twinkling', 'streaming', 'vanishing', 'screeched', 'questions', 'newspaper', 'difficult', 'meanwhile', 'thirtysix', 'adventure', 'hamburger', 'suggested', 'hopefully', 'listening', 'duddydums', 'christmas', 'sleepless', 'revolting', 'buildings', 'somewhere', 'sniggered', \"shouldn't\", 'dangerous', 'chocolate', 'afterward', 'poisonous', 'hammering', 'deafening', 'uncoiling', 'playfully', 'collapsed', 'miserable', 'sometimes', 'forbidden', 'strangers', 'everybody', 'brazilian', 'stupidest', 'wandering', 'september', 'secondary', 'smeltings', 'stonewall', 'tailcoats', 'breakfast', 'tightened', 'relatives', 'addressed', 'yellowish', 'parchment', 'trembling', 'unfolding', 'pppetunia', 'quivering', 'following', 'firstever', 'stretched', 'strangled', 'miserably', 'explained', 'fruitcake', 'processor', 'amazement', 'marmalade', 'fireplace', 'arguments', 'boardedup', 'sniffling', 'nightfall', 'outskirts', 'wondering', 'cokeworth', 'birthdays', 'gleefully', 'toothless', 'shriveled', 'privately', 'motheaten', 'crunching', 'crumbling', 'crouching', 'terrified', \"fattenin'\", 'wonderful', 'thundered', 'commanded', 'whistling', 'necessary', 'equipment', 'sincerely', 'fireworks', 'stammered', \"gallopin'\", 'scribbled', \"weather's\", 'firelight', 'schooland', 'gargoyles', 'followers', 'halloween', 'mckinnons', 'wizarding', 'flattened', 'breathing', \"somethin'\", 'realizing', 'scrambled', 'fluttered', 'gringotts', 'cornelius', 'solutions', 'clambered', 'firstyear', 'fantastic', 'scamander', 'telescope', 'escalator', 'bartender', 'crockford', 'delighted', 'remembers', 'twitching', 'courtyard', \"tremblin'\", 'brilliant', 'firsthand', 'instantly', 'cauldrons', 'seventeen', 'tottering', 'burnished', 'examining', 'billowing', 'belonging', 'gathering', 'expecting', 'occasions', 'footstool', 'quidditch', 'slytherin', 'raspberry', \"wizardin'\", 'jellylegs', 'vindictus', 'twentyone', 'minuscule', 'beautiful', 'thousands', 'awkwardly', 'excellent', 'reflected', 'shuffling', 'substance', 'phoenixes', 'measuring', 'beechwood', 'muttering', 'beginning', 'punctures', 'platforms', 'desperate', 'according', 'redheaded', 'carriages', 'painfully', 'redhaired', 'reminding', 'disappear', 'tarantula', 'introduce', 'ourselves', \"charlie's\", 'impressed', \"drooble's\", 'unwrapped', 'currently', 'discovery', 'woodcroft', 'bleaaargh', \"neville's\", 'twentieth', 'ravenclaw', 'depressed', \"scabbers'\", 'mentioned', 'confessed', 'positions', 'extremely', 'footsteps', 'bewitched', 'conductor', 'corridors', 'mountains', 'thronging', 'stumbling', 'staircase', 'dormitory', 'whichever', 'anxiously', \"teacher's\", 'wrestling', 'pinkfaced', 'bulstrode', 'millicent', 'macdougal', 'swaggered', 'parkinson', 'sallyanne', 'greatness', 'pompously', 'delicious', 'doughnuts', 'blackpool', 'hooknosed', 'caretaker', 'righthand', \"teachers'\", 'snakelike', 'conducted', 'portraits', 'armchairs', 'struggled', 'invisible', 'unluckily', 'patrolled', 'wednesday', 'movements', 'herbology', 'talkingto', 'furniture', 'classroom', 'protected', 'celebrity', 'simmering', 'ensnaring', 'exchanged', 'monkshood', 'wolfsbane', 'continued', 'porcupine', 'whimpered', 'boarhound', 'pheasants', 'patchwork', 'yerselves', 'shapeless', 'collected', 'childhood', 'accidents', \"granger's\", 'hardfaced', 'crybabies', 'snatching', 'glittered', 'aboutface', 'assistant', 'fifthyear', 'fiftyfoot', 'punishing', 'shoveling', \"malfoy'll\", 'bathrobes', 'switching', 'snuffling', 'squinting', 'moonlight', 'glimmered', 'chickened', 'petrified', 'whooshing', 'nightmare', 'monstrous', 'mistaking', 'slightest', 'knowitall', 'attention', 'enviously', 'confusion', 'bedspread', 'identical', 'straining', 'strapping', 'announced', 'impatient', 'overheard', 'sprinting', 'exploding', 'footfalls', 'shrinking', 'advancing', 'hesitated', 'sickening', 'finishing', 'fullgrown', 'staffroom', 'diversion', 'clobbered', 'president', 'performed', 'bletchley', \"weasleys'\", 'interfere', 'grayfaced', 'vibrating', 'headfirst', 'snowballs', 'disgusted', 'replacing', \"insultin'\", 'mistletoe', 'searching', 'specially', 'librarian', 'directing', 'contained', 'suspended', 'signature', 'cranberry', \"admiral's\", 'chuckling', 'including', 'suspected', 'wideawake', 'separated', 'languages', 'balancing', 'panicking', 'shrieking', 'recognize', 'retracing', 'knowledge', 'entranced', 'admirable', 'convinced', 'leglocker', 'mystified', 'concerned', 'legendary', 'transform', 'centuries', 'existence', 'alchemist', 'perenelle', 'sixtyfive', 'locomotor', 'broomshed', 'nosebleed', 'loyalties', 'norwegian', 'ridgeback', 'schedules', 'longingly', \"promisin'\", \"rabbitin'\", \"warlocks'\", 'hebridean', \"diff'rent\", \"norbert's\", 'shortcuts', 'grappling', 'detention', 'thrashing', 'happiness', 'astronomy', 'violently', 'suffering', 'wellknown', 'delivered', \"should've\", \"lecturin'\", 'creatures', \"centaur's\", 'sorrowful', 'dribbling', 'staggered', 'galloping', 'sapphires', 'lingering', 'alongside', \"firenze's\", \"unicorn's\", 'shivering', 'imprecise', 'exhausted', 'surprises', 'practical', 'pineapple', 'bothering', 'foreheads', 'answering', 'tentacles', 'unsettled', 'horrified', \"someone's\", 'suspicion', 'hurriedly', 'loosening', 'acreeping', 'wriggling', 'unraveled', 'trickling', 'untouched', 'alohomora', 'checkmate', 'threshold', 'transport', 'overgrown', 'unpopular', 'scurrying', \"another's\", 'blackness', 'naturally', 'precisely', 'increases', 'therefore', 'otherwise', 'endofyear', \"pomfrey's\", 'insisting', 'twentysix', 'gradually', 'explosion', 'wardrobes', 'mustached', 'spreading']\n"
          ]
        }
      ]
    },
    {
      "cell_type": "code",
      "metadata": {
        "colab": {
          "base_uri": "https://localhost:8080/"
        },
        "id": "9r-rTZdbZzPH",
        "outputId": "ea893333-3d8a-4c42-cea7-f92a8a6b1ac4"
      },
      "source": [
        "class harryPotter:\n",
        "    title = \"The boy who lived\"\n",
        "    \n",
        "\n",
        "\n",
        "hp = harryPotter()\n",
        "print (hp.title)"
      ],
      "execution_count": 18,
      "outputs": [
        {
          "output_type": "stream",
          "name": "stdout",
          "text": [
            "The boy who lived\n"
          ]
        }
      ]
    },
    {
      "cell_type": "code",
      "source": [
        ""
      ],
      "metadata": {
        "colab": {
          "base_uri": "https://localhost:8080/",
          "height": 130
        },
        "id": "PeNLWKDoZH7d",
        "outputId": "6b0c8d56-346e-44c8-82f4-8e586d74eab5"
      },
      "execution_count": 21,
      "outputs": [
        {
          "output_type": "error",
          "ename": "SyntaxError",
          "evalue": "ignored",
          "traceback": [
            "\u001b[0;36m  File \u001b[0;32m\"<ipython-input-21-7ff6b219f6a1>\"\u001b[0;36m, line \u001b[0;32m3\u001b[0m\n\u001b[0;31m    echo \"# Harry-Potter-Books-and-Python\" >> README.md\u001b[0m\n\u001b[0m                                         ^\u001b[0m\n\u001b[0;31mSyntaxError\u001b[0m\u001b[0;31m:\u001b[0m invalid syntax\n"
          ]
        }
      ]
    }
  ]
}